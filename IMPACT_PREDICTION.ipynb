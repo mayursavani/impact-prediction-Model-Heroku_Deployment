{
 "cells": [
  {
   "cell_type": "code",
   "execution_count": 1,
   "metadata": {},
   "outputs": [],
   "source": [
    "import pandas as pd\n",
    "import seaborn as sns\n",
    "import matplotlib.pyplot as plt"
   ]
  },
  {
   "cell_type": "code",
   "execution_count": 2,
   "metadata": {},
   "outputs": [],
   "source": [
    "df=pd.read_excel('D:\\Impact Prediction\\Incidents_Service.xlsx')"
   ]
  },
  {
   "cell_type": "code",
   "execution_count": 3,
   "metadata": {},
   "outputs": [
    {
     "data": {
      "text/plain": [
       "(141712, 25)"
      ]
     },
     "execution_count": 3,
     "metadata": {},
     "output_type": "execute_result"
    }
   ],
   "source": [
    "df.shape"
   ]
  },
  {
   "cell_type": "code",
   "execution_count": 4,
   "metadata": {},
   "outputs": [
    {
     "data": {
      "text/html": [
       "<div>\n",
       "<style scoped>\n",
       "    .dataframe tbody tr th:only-of-type {\n",
       "        vertical-align: middle;\n",
       "    }\n",
       "\n",
       "    .dataframe tbody tr th {\n",
       "        vertical-align: top;\n",
       "    }\n",
       "\n",
       "    .dataframe thead th {\n",
       "        text-align: right;\n",
       "    }\n",
       "</style>\n",
       "<table border=\"1\" class=\"dataframe\">\n",
       "  <thead>\n",
       "    <tr style=\"text-align: right;\">\n",
       "      <th></th>\n",
       "      <th>ID</th>\n",
       "      <th>ID_status</th>\n",
       "      <th>active</th>\n",
       "      <th>count_reassign</th>\n",
       "      <th>count_opening</th>\n",
       "      <th>count_updated</th>\n",
       "      <th>ID_caller</th>\n",
       "      <th>opened_by</th>\n",
       "      <th>opened_time</th>\n",
       "      <th>Created_by</th>\n",
       "      <th>...</th>\n",
       "      <th>category_ID</th>\n",
       "      <th>user_symptom</th>\n",
       "      <th>impact</th>\n",
       "      <th>Support_group</th>\n",
       "      <th>support_incharge</th>\n",
       "      <th>Doc_knowledge</th>\n",
       "      <th>confirmation_check</th>\n",
       "      <th>notify</th>\n",
       "      <th>problem_id</th>\n",
       "      <th>change request</th>\n",
       "    </tr>\n",
       "  </thead>\n",
       "  <tbody>\n",
       "    <tr>\n",
       "      <td>0</td>\n",
       "      <td>INC0000045</td>\n",
       "      <td>New</td>\n",
       "      <td>True</td>\n",
       "      <td>0</td>\n",
       "      <td>0</td>\n",
       "      <td>0</td>\n",
       "      <td>Caller 2403</td>\n",
       "      <td>Opened by  8</td>\n",
       "      <td>2016-02-29 01:16:00</td>\n",
       "      <td>Created by 6</td>\n",
       "      <td>...</td>\n",
       "      <td>Category 55</td>\n",
       "      <td>Symptom 72</td>\n",
       "      <td>2 - Medium</td>\n",
       "      <td>Group 56</td>\n",
       "      <td>Resolver 17</td>\n",
       "      <td>True</td>\n",
       "      <td>False</td>\n",
       "      <td>Do Not Notify</td>\n",
       "      <td>?</td>\n",
       "      <td>?</td>\n",
       "    </tr>\n",
       "    <tr>\n",
       "      <td>1</td>\n",
       "      <td>INC0000045</td>\n",
       "      <td>Resolved</td>\n",
       "      <td>True</td>\n",
       "      <td>0</td>\n",
       "      <td>0</td>\n",
       "      <td>3</td>\n",
       "      <td>Caller 2403</td>\n",
       "      <td>Opened by  8</td>\n",
       "      <td>2016-02-29 01:16:00</td>\n",
       "      <td>Created by 6</td>\n",
       "      <td>...</td>\n",
       "      <td>Category 55</td>\n",
       "      <td>Symptom 72</td>\n",
       "      <td>2 - Medium</td>\n",
       "      <td>Group 56</td>\n",
       "      <td>Resolver 17</td>\n",
       "      <td>True</td>\n",
       "      <td>False</td>\n",
       "      <td>Do Not Notify</td>\n",
       "      <td>?</td>\n",
       "      <td>?</td>\n",
       "    </tr>\n",
       "    <tr>\n",
       "      <td>2</td>\n",
       "      <td>INC0000045</td>\n",
       "      <td>Closed</td>\n",
       "      <td>False</td>\n",
       "      <td>0</td>\n",
       "      <td>0</td>\n",
       "      <td>4</td>\n",
       "      <td>Caller 2403</td>\n",
       "      <td>Opened by  8</td>\n",
       "      <td>2016-02-29 01:16:00</td>\n",
       "      <td>Created by 6</td>\n",
       "      <td>...</td>\n",
       "      <td>Category 55</td>\n",
       "      <td>Symptom 72</td>\n",
       "      <td>2 - Medium</td>\n",
       "      <td>Group 56</td>\n",
       "      <td>Resolver 17</td>\n",
       "      <td>True</td>\n",
       "      <td>False</td>\n",
       "      <td>Do Not Notify</td>\n",
       "      <td>?</td>\n",
       "      <td>?</td>\n",
       "    </tr>\n",
       "    <tr>\n",
       "      <td>3</td>\n",
       "      <td>INC0000047</td>\n",
       "      <td>Active</td>\n",
       "      <td>True</td>\n",
       "      <td>1</td>\n",
       "      <td>0</td>\n",
       "      <td>1</td>\n",
       "      <td>Caller 2403</td>\n",
       "      <td>Opened by  397</td>\n",
       "      <td>2016-02-29 04:40:00</td>\n",
       "      <td>Created by 171</td>\n",
       "      <td>...</td>\n",
       "      <td>Category 40</td>\n",
       "      <td>Symptom 471</td>\n",
       "      <td>2 - Medium</td>\n",
       "      <td>Group 24</td>\n",
       "      <td>Resolver 31</td>\n",
       "      <td>True</td>\n",
       "      <td>False</td>\n",
       "      <td>Do Not Notify</td>\n",
       "      <td>?</td>\n",
       "      <td>?</td>\n",
       "    </tr>\n",
       "    <tr>\n",
       "      <td>4</td>\n",
       "      <td>INC0000047</td>\n",
       "      <td>Active</td>\n",
       "      <td>True</td>\n",
       "      <td>1</td>\n",
       "      <td>0</td>\n",
       "      <td>2</td>\n",
       "      <td>Caller 2403</td>\n",
       "      <td>Opened by  397</td>\n",
       "      <td>2016-02-29 04:40:00</td>\n",
       "      <td>Created by 171</td>\n",
       "      <td>...</td>\n",
       "      <td>Category 40</td>\n",
       "      <td>Symptom 471</td>\n",
       "      <td>2 - Medium</td>\n",
       "      <td>Group 24</td>\n",
       "      <td>Resolver 31</td>\n",
       "      <td>True</td>\n",
       "      <td>False</td>\n",
       "      <td>Do Not Notify</td>\n",
       "      <td>?</td>\n",
       "      <td>?</td>\n",
       "    </tr>\n",
       "  </tbody>\n",
       "</table>\n",
       "<p>5 rows × 25 columns</p>\n",
       "</div>"
      ],
      "text/plain": [
       "           ID ID_status  active  count_reassign  count_opening  count_updated  \\\n",
       "0  INC0000045       New    True               0              0              0   \n",
       "1  INC0000045  Resolved    True               0              0              3   \n",
       "2  INC0000045    Closed   False               0              0              4   \n",
       "3  INC0000047    Active    True               1              0              1   \n",
       "4  INC0000047    Active    True               1              0              2   \n",
       "\n",
       "     ID_caller       opened_by         opened_time      Created_by  ...  \\\n",
       "0  Caller 2403    Opened by  8 2016-02-29 01:16:00    Created by 6  ...   \n",
       "1  Caller 2403    Opened by  8 2016-02-29 01:16:00    Created by 6  ...   \n",
       "2  Caller 2403    Opened by  8 2016-02-29 01:16:00    Created by 6  ...   \n",
       "3  Caller 2403  Opened by  397 2016-02-29 04:40:00  Created by 171  ...   \n",
       "4  Caller 2403  Opened by  397 2016-02-29 04:40:00  Created by 171  ...   \n",
       "\n",
       "   category_ID user_symptom      impact Support_group support_incharge  \\\n",
       "0  Category 55   Symptom 72  2 - Medium      Group 56      Resolver 17   \n",
       "1  Category 55   Symptom 72  2 - Medium      Group 56      Resolver 17   \n",
       "2  Category 55   Symptom 72  2 - Medium      Group 56      Resolver 17   \n",
       "3  Category 40  Symptom 471  2 - Medium      Group 24      Resolver 31   \n",
       "4  Category 40  Symptom 471  2 - Medium      Group 24      Resolver 31   \n",
       "\n",
       "  Doc_knowledge confirmation_check         notify problem_id change request  \n",
       "0          True              False  Do Not Notify          ?              ?  \n",
       "1          True              False  Do Not Notify          ?              ?  \n",
       "2          True              False  Do Not Notify          ?              ?  \n",
       "3          True              False  Do Not Notify          ?              ?  \n",
       "4          True              False  Do Not Notify          ?              ?  \n",
       "\n",
       "[5 rows x 25 columns]"
      ]
     },
     "execution_count": 4,
     "metadata": {},
     "output_type": "execute_result"
    }
   ],
   "source": [
    "df.head()"
   ]
  },
  {
   "cell_type": "code",
   "execution_count": 5,
   "metadata": {},
   "outputs": [
    {
     "data": {
      "text/plain": [
       "Active                38716\n",
       "New                   36407\n",
       "Resolved              25751\n",
       "Closed                24985\n",
       "Awaiting User Info    14642\n",
       "Awaiting Vendor         707\n",
       "Awaiting Problem        461\n",
       "Awaiting Evidence        38\n",
       "-100                      5\n",
       "Name: ID_status, dtype: int64"
      ]
     },
     "execution_count": 5,
     "metadata": {},
     "output_type": "execute_result"
    }
   ],
   "source": [
    "df.ID_status.value_counts()"
   ]
  },
  {
   "cell_type": "code",
   "execution_count": 6,
   "metadata": {},
   "outputs": [
    {
     "data": {
      "text/plain": [
       "ID                            object\n",
       "ID_status                     object\n",
       "active                          bool\n",
       "count_reassign                 int64\n",
       "count_opening                  int64\n",
       "count_updated                  int64\n",
       "ID_caller                     object\n",
       "opened_by                     object\n",
       "opened_time           datetime64[ns]\n",
       "Created_by                    object\n",
       "created_at            datetime64[ns]\n",
       "updated_by                    object\n",
       "updated_at            datetime64[ns]\n",
       "type_contact                  object\n",
       "location                      object\n",
       "category_ID                   object\n",
       "user_symptom                  object\n",
       "impact                        object\n",
       "Support_group                 object\n",
       "support_incharge              object\n",
       "Doc_knowledge                   bool\n",
       "confirmation_check              bool\n",
       "notify                        object\n",
       "problem_id                    object\n",
       "change request                object\n",
       "dtype: object"
      ]
     },
     "execution_count": 6,
     "metadata": {},
     "output_type": "execute_result"
    }
   ],
   "source": [
    "df.dtypes"
   ]
  },
  {
   "cell_type": "markdown",
   "metadata": {},
   "source": [
    "# INSIGHT: \n",
    "                 ~majority of columns are object type. We have to create dummies before modeling."
   ]
  },
  {
   "cell_type": "code",
   "execution_count": 7,
   "metadata": {},
   "outputs": [
    {
     "data": {
      "text/html": [
       "<div>\n",
       "<style scoped>\n",
       "    .dataframe tbody tr th:only-of-type {\n",
       "        vertical-align: middle;\n",
       "    }\n",
       "\n",
       "    .dataframe tbody tr th {\n",
       "        vertical-align: top;\n",
       "    }\n",
       "\n",
       "    .dataframe thead th {\n",
       "        text-align: right;\n",
       "    }\n",
       "</style>\n",
       "<table border=\"1\" class=\"dataframe\">\n",
       "  <thead>\n",
       "    <tr style=\"text-align: right;\">\n",
       "      <th></th>\n",
       "      <th>count_reassign</th>\n",
       "      <th>count_opening</th>\n",
       "      <th>count_updated</th>\n",
       "    </tr>\n",
       "  </thead>\n",
       "  <tbody>\n",
       "    <tr>\n",
       "      <td>count</td>\n",
       "      <td>141712.000000</td>\n",
       "      <td>141712.000000</td>\n",
       "      <td>141712.000000</td>\n",
       "    </tr>\n",
       "    <tr>\n",
       "      <td>mean</td>\n",
       "      <td>1.104197</td>\n",
       "      <td>0.021918</td>\n",
       "      <td>5.080946</td>\n",
       "    </tr>\n",
       "    <tr>\n",
       "      <td>std</td>\n",
       "      <td>1.734673</td>\n",
       "      <td>0.207302</td>\n",
       "      <td>7.680652</td>\n",
       "    </tr>\n",
       "    <tr>\n",
       "      <td>min</td>\n",
       "      <td>0.000000</td>\n",
       "      <td>0.000000</td>\n",
       "      <td>0.000000</td>\n",
       "    </tr>\n",
       "    <tr>\n",
       "      <td>25%</td>\n",
       "      <td>0.000000</td>\n",
       "      <td>0.000000</td>\n",
       "      <td>1.000000</td>\n",
       "    </tr>\n",
       "    <tr>\n",
       "      <td>50%</td>\n",
       "      <td>1.000000</td>\n",
       "      <td>0.000000</td>\n",
       "      <td>3.000000</td>\n",
       "    </tr>\n",
       "    <tr>\n",
       "      <td>75%</td>\n",
       "      <td>1.000000</td>\n",
       "      <td>0.000000</td>\n",
       "      <td>6.000000</td>\n",
       "    </tr>\n",
       "    <tr>\n",
       "      <td>max</td>\n",
       "      <td>27.000000</td>\n",
       "      <td>8.000000</td>\n",
       "      <td>129.000000</td>\n",
       "    </tr>\n",
       "  </tbody>\n",
       "</table>\n",
       "</div>"
      ],
      "text/plain": [
       "       count_reassign  count_opening  count_updated\n",
       "count   141712.000000  141712.000000  141712.000000\n",
       "mean         1.104197       0.021918       5.080946\n",
       "std          1.734673       0.207302       7.680652\n",
       "min          0.000000       0.000000       0.000000\n",
       "25%          0.000000       0.000000       1.000000\n",
       "50%          1.000000       0.000000       3.000000\n",
       "75%          1.000000       0.000000       6.000000\n",
       "max         27.000000       8.000000     129.000000"
      ]
     },
     "execution_count": 7,
     "metadata": {},
     "output_type": "execute_result"
    }
   ],
   "source": [
    "df.describe()"
   ]
  },
  {
   "cell_type": "code",
   "execution_count": 8,
   "metadata": {},
   "outputs": [
    {
     "name": "stdout",
     "output_type": "stream",
     "text": [
      "<class 'pandas.core.frame.DataFrame'>\n",
      "RangeIndex: 141712 entries, 0 to 141711\n",
      "Data columns (total 25 columns):\n",
      "ID                    141712 non-null object\n",
      "ID_status             141712 non-null object\n",
      "active                141712 non-null bool\n",
      "count_reassign        141712 non-null int64\n",
      "count_opening         141712 non-null int64\n",
      "count_updated         141712 non-null int64\n",
      "ID_caller             141712 non-null object\n",
      "opened_by             141712 non-null object\n",
      "opened_time           141712 non-null datetime64[ns]\n",
      "Created_by            141712 non-null object\n",
      "created_at            141712 non-null datetime64[ns]\n",
      "updated_by            141712 non-null object\n",
      "updated_at            141712 non-null datetime64[ns]\n",
      "type_contact          141712 non-null object\n",
      "location              141712 non-null object\n",
      "category_ID           141712 non-null object\n",
      "user_symptom          141712 non-null object\n",
      "impact                141712 non-null object\n",
      "Support_group         141712 non-null object\n",
      "support_incharge      141712 non-null object\n",
      "Doc_knowledge         141712 non-null bool\n",
      "confirmation_check    141712 non-null bool\n",
      "notify                141712 non-null object\n",
      "problem_id            141712 non-null object\n",
      "change request        141712 non-null object\n",
      "dtypes: bool(3), datetime64[ns](3), int64(3), object(16)\n",
      "memory usage: 24.2+ MB\n"
     ]
    }
   ],
   "source": [
    "df.info()"
   ]
  },
  {
   "cell_type": "code",
   "execution_count": 9,
   "metadata": {},
   "outputs": [
    {
     "name": "stdout",
     "output_type": "stream",
     "text": [
      "ID :  0\n",
      "ID_status :  0\n"
     ]
    },
    {
     "name": "stderr",
     "output_type": "stream",
     "text": [
      "C:\\Users\\asd\\Anaconda3\\lib\\site-packages\\pandas\\core\\ops\\__init__.py:1115: FutureWarning: elementwise comparison failed; returning scalar instead, but in the future will perform elementwise comparison\n",
      "  result = method(y)\n"
     ]
    },
    {
     "name": "stdout",
     "output_type": "stream",
     "text": [
      "active :  0\n",
      "count_reassign :  0\n",
      "count_opening :  0\n",
      "count_updated :  0\n",
      "ID_caller :  0\n",
      "opened_by :  0\n",
      "opened_time :  0\n",
      "Created_by :  0\n",
      "created_at :  0\n",
      "updated_by :  0\n",
      "updated_at :  0\n",
      "type_contact :  0\n",
      "location :  0\n",
      "category_ID :  0\n",
      "user_symptom :  0\n",
      "impact :  0\n",
      "Support_group :  0\n",
      "support_incharge :  0\n",
      "Doc_knowledge :  0\n",
      "confirmation_check :  0\n",
      "notify :  0\n",
      "problem_id :  139417\n",
      "change request :  140721\n"
     ]
    }
   ],
   "source": [
    "for column in df.columns:\n",
    "    print (column,\": \",sum(df[column] == \"?\"))"
   ]
  },
  {
   "cell_type": "markdown",
   "metadata": {},
   "source": [
    "# INSIGHT: \n",
    "                ~we have missing value problem in problem_id and change request columns."
   ]
  },
  {
   "cell_type": "code",
   "execution_count": 10,
   "metadata": {},
   "outputs": [
    {
     "data": {
      "image/png": "[encoded data removed]",
      "text/plain": [
       "<Figure size 432x288 with 1 Axes>"
      ]
     },
     "metadata": {
      "needs_background": "light"
     },
     "output_type": "display_data"
    }
   ],
   "source": [
    "sns_plot=sns.countplot(df.ID_status)\n",
    "fig = sns_plot.get_figure()\n",
    "fig.savefig(\"ID_status.png\")"
   ]
  },
  {
   "cell_type": "code",
   "execution_count": 11,
   "metadata": {},
   "outputs": [
    {
     "data": {
      "text/plain": [
       "Active                38716\n",
       "New                   36407\n",
       "Resolved              25751\n",
       "Closed                24985\n",
       "Awaiting User Info    14642\n",
       "Awaiting Vendor         707\n",
       "Awaiting Problem        461\n",
       "Awaiting Evidence        38\n",
       "-100                      5\n",
       "Name: ID_status, dtype: int64"
      ]
     },
     "execution_count": 11,
     "metadata": {},
     "output_type": "execute_result"
    }
   ],
   "source": [
    "df.ID_status.value_counts()"
   ]
  },
  {
   "cell_type": "code",
   "execution_count": 12,
   "metadata": {},
   "outputs": [
    {
     "data": {
      "text/plain": [
       "True     116726\n",
       "False     24986\n",
       "Name: active, dtype: int64"
      ]
     },
     "execution_count": 12,
     "metadata": {},
     "output_type": "execute_result"
    }
   ],
   "source": [
    "df.active.value_counts()"
   ]
  },
  {
   "cell_type": "code",
   "execution_count": 13,
   "metadata": {},
   "outputs": [
    {
     "data": {
      "image/png": "[encoded data removed]",
      "text/plain": [
       "<Figure size 432x288 with 1 Axes>"
      ]
     },
     "metadata": {
      "needs_background": "light"
     },
     "output_type": "display_data"
    }
   ],
   "source": [
    "sns_plot=sns.countplot(df.active)\n",
    "fig=sns_plot.get_figure()\n",
    "fig.savefig(\"active.png\")"
   ]
  },
  {
   "cell_type": "code",
   "execution_count": 14,
   "metadata": {},
   "outputs": [
    {
     "data": {
      "image/png": "[encoded data removed]",
      "text/plain": [
       "<Figure size 432x288 with 1 Axes>"
      ]
     },
     "metadata": {
      "needs_background": "light"
     },
     "output_type": "display_data"
    }
   ],
   "source": [
    "plt.hist(df.count_reassign)\n",
    "plt.savefig('count_reassign.png')"
   ]
  },
  {
   "cell_type": "code",
   "execution_count": 15,
   "metadata": {},
   "outputs": [
    {
     "name": "stdout",
     "output_type": "stream",
     "text": [
      "0\n",
      "5.080945862030033\n",
      "129\n"
     ]
    }
   ],
   "source": [
    "import numpy as np\n",
    "print(np.min(df.count_updated))\n",
    "print(np.mean(df.count_updated))\n",
    "print(np.max(df.count_updated))"
   ]
  },
  {
   "cell_type": "code",
   "execution_count": 16,
   "metadata": {},
   "outputs": [
    {
     "data": {
      "image/png": "[encoded data removed]",
      "text/plain": [
       "<Figure size 432x288 with 1 Axes>"
      ]
     },
     "metadata": {
      "needs_background": "light"
     },
     "output_type": "display_data"
    }
   ],
   "source": [
    "plt.hist(df.count_opening)\n",
    "plt.savefig(\"count_opening.png\")"
   ]
  },
  {
   "cell_type": "code",
   "execution_count": 17,
   "metadata": {},
   "outputs": [
    {
     "data": {
      "image/png": "[encoded data removed]",
      "text/plain": [
       "<Figure size 432x288 with 1 Axes>"
      ]
     },
     "metadata": {
      "needs_background": "light"
     },
     "output_type": "display_data"
    }
   ],
   "source": [
    "plt.hist(df.count_updated)\n",
    "plt.savefig('count_updated.png')"
   ]
  },
  {
   "cell_type": "code",
   "execution_count": 18,
   "metadata": {},
   "outputs": [
    {
     "data": {
      "text/plain": [
       "Caller 1904    1454\n",
       "Caller 290      791\n",
       "Caller 4514     716\n",
       "Caller 1441     322\n",
       "Caller 298      293\n",
       "               ... \n",
       "Caller 3104       2\n",
       "Caller 1759       2\n",
       "Caller 3219       2\n",
       "Caller 2961       2\n",
       "Caller 1978       2\n",
       "Name: ID_caller, Length: 5244, dtype: int64"
      ]
     },
     "execution_count": 18,
     "metadata": {},
     "output_type": "execute_result"
    }
   ],
   "source": [
    "df.ID_caller.value_counts()"
   ]
  },
  {
   "cell_type": "code",
   "execution_count": 19,
   "metadata": {},
   "outputs": [
    {
     "data": {
      "text/plain": [
       "Opened by  17     46301\n",
       "Opened by  24      8063\n",
       "Opened by  131     7269\n",
       "Opened by  108     6121\n",
       "Opened by  55      5655\n",
       "                  ...  \n",
       "Opened by  160        3\n",
       "Opened by  80         3\n",
       "Opened by  440        3\n",
       "Opened by  447        3\n",
       "Opened by  528        3\n",
       "Name: opened_by, Length: 207, dtype: int64"
      ]
     },
     "execution_count": 19,
     "metadata": {},
     "output_type": "execute_result"
    }
   ],
   "source": [
    "df.opened_by.value_counts()"
   ]
  },
  {
   "cell_type": "code",
   "execution_count": 20,
   "metadata": {},
   "outputs": [
    {
     "data": {
      "text/plain": [
       "Created by 10     77299\n",
       "Created by 13      4511\n",
       "Created by 62      3943\n",
       "Created by 52      3551\n",
       "Created by 34      3468\n",
       "                  ...  \n",
       "Created by 209        3\n",
       "Created by 60         3\n",
       "Created by 73         3\n",
       "Created by 191        3\n",
       "Created by 194        3\n",
       "Name: Created_by, Length: 185, dtype: int64"
      ]
     },
     "execution_count": 20,
     "metadata": {},
     "output_type": "execute_result"
    }
   ],
   "source": [
    "df.Created_by.value_counts()"
   ]
  },
  {
   "cell_type": "code",
   "execution_count": 21,
   "metadata": {},
   "outputs": [
    {
     "data": {
      "text/plain": [
       "Updated by 908    36162\n",
       "Updated by 44     12644\n",
       "Updated by 60      7009\n",
       "Updated by 429     4169\n",
       "Updated by 859     2560\n",
       "                  ...  \n",
       "Updated by 312        1\n",
       "Updated by 516        1\n",
       "Updated by 72         1\n",
       "Updated by 167        1\n",
       "Updated by 824        1\n",
       "Name: updated_by, Length: 846, dtype: int64"
      ]
     },
     "execution_count": 21,
     "metadata": {},
     "output_type": "execute_result"
    }
   ],
   "source": [
    "df.updated_by.value_counts()"
   ]
  },
  {
   "cell_type": "code",
   "execution_count": 22,
   "metadata": {},
   "outputs": [
    {
     "data": {
      "image/png": "[encoded data removed]",
      "text/plain": [
       "<Figure size 432x288 with 1 Axes>"
      ]
     },
     "metadata": {
      "needs_background": "light"
     },
     "output_type": "display_data"
    }
   ],
   "source": [
    "sns_plot=sns.countplot(df.type_contact)\n",
    "fig=sns_plot.get_figure()\n",
    "fig.savefig('type_contact.png')"
   ]
  },
  {
   "cell_type": "code",
   "execution_count": 23,
   "metadata": {},
   "outputs": [
    {
     "data": {
      "text/plain": [
       "Phone             140462\n",
       "Self service         995\n",
       "Email                220\n",
       "IVR                   18\n",
       "Direct opening        17\n",
       "Name: type_contact, dtype: int64"
      ]
     },
     "execution_count": 23,
     "metadata": {},
     "output_type": "execute_result"
    }
   ],
   "source": [
    "df.type_contact.value_counts()"
   ]
  },
  {
   "cell_type": "code",
   "execution_count": 24,
   "metadata": {},
   "outputs": [
    {
     "data": {
      "text/plain": [
       "Location 204    31766\n",
       "Location 161    22605\n",
       "Location 143    19245\n",
       "Location 108    12623\n",
       "Location 93     11554\n",
       "                ...  \n",
       "Location 137        3\n",
       "Location 211        3\n",
       "Location 132        2\n",
       "Location 166        2\n",
       "Location 31         2\n",
       "Name: location, Length: 224, dtype: int64"
      ]
     },
     "execution_count": 24,
     "metadata": {},
     "output_type": "execute_result"
    }
   ],
   "source": [
    "df.location.value_counts()"
   ]
  },
  {
   "cell_type": "code",
   "execution_count": 25,
   "metadata": {},
   "outputs": [
    {
     "data": {
      "text/plain": [
       "Category 26    18531\n",
       "Category 42    15977\n",
       "Category 53    15968\n",
       "Category 46    13324\n",
       "Category 23     7779\n",
       "Category 9      7365\n",
       "Category 32     7273\n",
       "Category 37     6584\n",
       "Category 57     6532\n",
       "Category 20     5506\n",
       "Category 61     5168\n",
       "Category 24     4561\n",
       "Category 34     3946\n",
       "Category 40     3760\n",
       "Category 45     3619\n",
       "Category 51     2390\n",
       "Category 28     2256\n",
       "Category 35     2037\n",
       "Category 44     1798\n",
       "Category 19     1592\n",
       "Category 13      994\n",
       "Category 43      858\n",
       "Category 55      801\n",
       "Category 17      512\n",
       "Category 22      420\n",
       "Category 56      322\n",
       "Category 38      290\n",
       "Category 8       264\n",
       "Category 7       207\n",
       "Category 33      160\n",
       "Category 54      139\n",
       "Category 50       93\n",
       "Category 31       92\n",
       "Category 63       78\n",
       "Category 2        77\n",
       "Category 21       69\n",
       "Category 47       50\n",
       "Category 59       42\n",
       "Category 41       36\n",
       "Category 29       32\n",
       "Category 5        31\n",
       "Category 25       30\n",
       "Category 62       25\n",
       "Category 10       24\n",
       "Category 4        22\n",
       "Category 52       16\n",
       "Category 30       15\n",
       "Category 48       10\n",
       "Category 16        7\n",
       "Category 6         7\n",
       "Category 14        5\n",
       "Category 58        5\n",
       "Category 12        3\n",
       "Category 15        3\n",
       "Category 27        2\n",
       "Category 49        2\n",
       "Category 36        2\n",
       "Category 3         1\n",
       "Name: category_ID, dtype: int64"
      ]
     },
     "execution_count": 25,
     "metadata": {},
     "output_type": "execute_result"
    }
   ],
   "source": [
    "df.category_ID.value_counts()"
   ]
  },
  {
   "cell_type": "code",
   "execution_count": 26,
   "metadata": {},
   "outputs": [
    {
     "data": {
      "text/plain": [
       "Symptom 491    84949\n",
       "Symptom 534     5559\n",
       "Symptom 387     2583\n",
       "Symptom 4       2532\n",
       "Symptom 116     2394\n",
       "               ...  \n",
       "Symptom 229        1\n",
       "Symptom 184        1\n",
       "Symptom 448        1\n",
       "Symptom 313        1\n",
       "Symptom 415        1\n",
       "Name: user_symptom, Length: 525, dtype: int64"
      ]
     },
     "execution_count": 26,
     "metadata": {},
     "output_type": "execute_result"
    }
   ],
   "source": [
    "df.user_symptom.value_counts()"
   ]
  },
  {
   "cell_type": "code",
   "execution_count": 27,
   "metadata": {},
   "outputs": [
    {
     "data": {
      "text/plain": [
       "2 - Medium    134335\n",
       "3 - Low         3886\n",
       "1 - High        3491\n",
       "Name: impact, dtype: int64"
      ]
     },
     "execution_count": 27,
     "metadata": {},
     "output_type": "execute_result"
    }
   ],
   "source": [
    "df.impact.value_counts()"
   ]
  },
  {
   "cell_type": "code",
   "execution_count": 28,
   "metadata": {},
   "outputs": [
    {
     "data": {
      "image/png": "[encoded data removed]",
      "text/plain": [
       "<Figure size 432x288 with 1 Axes>"
      ]
     },
     "metadata": {
      "needs_background": "light"
     },
     "output_type": "display_data"
    }
   ],
   "source": [
    "sns_plot=sns.countplot(df.impact)\n",
    "fig=sns_plot.get_figure()\n",
    "fig.savefig('impact.png')"
   ]
  },
  {
   "cell_type": "markdown",
   "metadata": {},
   "source": [
    "# INSIGHT: \n",
    "                ¬we have data imbalanced problem here, we have to fix it before modeling"
   ]
  },
  {
   "cell_type": "code",
   "execution_count": 29,
   "metadata": {},
   "outputs": [
    {
     "data": {
      "text/plain": [
       "Group 70    57687\n",
       "Group 25     7679\n",
       "Group 24     6752\n",
       "Group 20     6170\n",
       "Group 39     4728\n",
       "            ...  \n",
       "Group 41        3\n",
       "Group 38        2\n",
       "Group 4         1\n",
       "Group 11        1\n",
       "Group 16        1\n",
       "Name: Support_group, Length: 78, dtype: int64"
      ]
     },
     "execution_count": 29,
     "metadata": {},
     "output_type": "execute_result"
    }
   ],
   "source": [
    "df.Support_group.value_counts()"
   ]
  },
  {
   "cell_type": "code",
   "execution_count": 30,
   "metadata": {},
   "outputs": [
    {
     "data": {
      "text/plain": [
       "Resolver 17     38086\n",
       "Resolver 13      8802\n",
       "Resolver 194     3515\n",
       "Resolver 57      3144\n",
       "Resolver 69      2983\n",
       "                ...  \n",
       "Resolver 199        1\n",
       "Resolver 38         1\n",
       "Resolver 129        1\n",
       "Resolver 67         1\n",
       "Resolver 146        1\n",
       "Name: support_incharge, Length: 234, dtype: int64"
      ]
     },
     "execution_count": 30,
     "metadata": {},
     "output_type": "execute_result"
    }
   ],
   "source": [
    "df.support_incharge.value_counts()"
   ]
  },
  {
   "cell_type": "code",
   "execution_count": 31,
   "metadata": {},
   "outputs": [
    {
     "data": {
      "text/plain": [
       "False    116349\n",
       "True      25363\n",
       "Name: Doc_knowledge, dtype: int64"
      ]
     },
     "execution_count": 31,
     "metadata": {},
     "output_type": "execute_result"
    }
   ],
   "source": [
    "df.Doc_knowledge.value_counts()"
   ]
  },
  {
   "cell_type": "code",
   "execution_count": 32,
   "metadata": {},
   "outputs": [
    {
     "data": {
      "image/png": "[encoded data removed]",
      "text/plain": [
       "<Figure size 432x288 with 1 Axes>"
      ]
     },
     "metadata": {
      "needs_background": "light"
     },
     "output_type": "display_data"
    }
   ],
   "source": [
    "sns_plot=sns.countplot(df.Doc_knowledge)\n",
    "fig=sns_plot.get_figure()\n",
    "fig.savefig('Doc_knowledge.png')"
   ]
  },
  {
   "cell_type": "code",
   "execution_count": 33,
   "metadata": {},
   "outputs": [
    {
     "data": {
      "text/plain": [
       "False    100740\n",
       "True      40972\n",
       "Name: confirmation_check, dtype: int64"
      ]
     },
     "execution_count": 33,
     "metadata": {},
     "output_type": "execute_result"
    }
   ],
   "source": [
    "df.confirmation_check.value_counts()"
   ]
  },
  {
   "cell_type": "code",
   "execution_count": 34,
   "metadata": {},
   "outputs": [
    {
     "data": {
      "image/png": "[encoded data removed]",
      "text/plain": [
       "<Figure size 432x288 with 1 Axes>"
      ]
     },
     "metadata": {
      "needs_background": "light"
     },
     "output_type": "display_data"
    }
   ],
   "source": [
    "sns_plot=sns.countplot(df.confirmation_check)\n",
    "fig=sns_plot.get_figure()\n",
    "fig.savefig('confirmation-check.png')"
   ]
  },
  {
   "cell_type": "code",
   "execution_count": 35,
   "metadata": {},
   "outputs": [
    {
     "data": {
      "image/png": "[encoded data removed]",
      "text/plain": [
       "<Figure size 432x288 with 1 Axes>"
      ]
     },
     "metadata": {
      "needs_background": "light"
     },
     "output_type": "display_data"
    }
   ],
   "source": [
    "sns_plot=sns.countplot(df.notify)\n",
    "fig=sns_plot.get_figure()\n",
    "fig.savefig('notify.png')"
   ]
  },
  {
   "cell_type": "code",
   "execution_count": 36,
   "metadata": {},
   "outputs": [
    {
     "data": {
      "text/plain": [
       "Do Not Notify    141593\n",
       "Send Email          119\n",
       "Name: notify, dtype: int64"
      ]
     },
     "execution_count": 36,
     "metadata": {},
     "output_type": "execute_result"
    }
   ],
   "source": [
    "df.notify.value_counts()"
   ]
  },
  {
   "cell_type": "code",
   "execution_count": 37,
   "metadata": {},
   "outputs": [
    {
     "data": {
      "text/plain": [
       "?                  139417\n",
       "Problem ID  14        184\n",
       "Problem ID  2         147\n",
       "Problem ID  52         82\n",
       "Problem ID  239        48\n",
       "                    ...  \n",
       "Problem ID  33          1\n",
       "Problem ID  181         1\n",
       "Problem ID  11          1\n",
       "Problem ID  88          1\n",
       "Problem ID  195         1\n",
       "Name: problem_id, Length: 253, dtype: int64"
      ]
     },
     "execution_count": 37,
     "metadata": {},
     "output_type": "execute_result"
    }
   ],
   "source": [
    "df.problem_id.value_counts()"
   ]
  },
  {
   "cell_type": "markdown",
   "metadata": {},
   "source": [
    "Inights: Almost all the records of problem id column are question marks. we may need help of domain knowledge expert."
   ]
  },
  {
   "cell_type": "code",
   "execution_count": 38,
   "metadata": {},
   "outputs": [
    {
     "data": {
      "text/plain": [
       "?             140721\n",
       "CHG0000132        20\n",
       "CHG0001230        20\n",
       "CHG0000047        18\n",
       "CHG0001656        17\n",
       "               ...  \n",
       "CHG0000230         2\n",
       "CHG0001720         1\n",
       "CHG0001437         1\n",
       "CHG0000530         1\n",
       "CHG0001829         1\n",
       "Name: change request, Length: 182, dtype: int64"
      ]
     },
     "execution_count": 38,
     "metadata": {},
     "output_type": "execute_result"
    }
   ],
   "source": [
    "df['change request'].value_counts()"
   ]
  },
  {
   "cell_type": "code",
   "execution_count": 39,
   "metadata": {},
   "outputs": [
    {
     "data": {
      "image/png": "[encoded data removed]",
      "text/plain": [
       "<Figure size 2160x720 with 1 Axes>"
      ]
     },
     "metadata": {
      "needs_background": "light"
     },
     "output_type": "display_data"
    }
   ],
   "source": [
    "df.boxplot(return_type='axes',figsize=(30,10))\n",
    "plt.savefig('boxplot.png')"
   ]
  },
  {
   "cell_type": "markdown",
   "metadata": {},
   "source": [
    "# INSIGHT:\n",
    "                ¬we might have a chance of having some outliers in count_updated column"
   ]
  },
  {
   "cell_type": "code",
   "execution_count": 40,
   "metadata": {},
   "outputs": [
    {
     "data": {
      "image/png": "[encoded data removed]",
      "text/plain": [
       "<Figure size 432x288 with 2 Axes>"
      ]
     },
     "metadata": {
      "needs_background": "light"
     },
     "output_type": "display_data"
    }
   ],
   "source": [
    "sns_plot=sns.heatmap(df.corr(),annot=True)\n",
    "fig=sns_plot.get_figure()\n",
    "fig.savefig('heatmap.png')"
   ]
  },
  {
   "cell_type": "markdown",
   "metadata": {},
   "source": [
    "# Insight: \n",
    "there is no high correlation between features."
   ]
  },
  {
   "cell_type": "code",
   "execution_count": 41,
   "metadata": {},
   "outputs": [
    {
     "data": {
      "text/plain": [
       "2 - Medium    134335\n",
       "3 - Low         3886\n",
       "1 - High        3491\n",
       "Name: impact, dtype: int64"
      ]
     },
     "execution_count": 41,
     "metadata": {},
     "output_type": "execute_result"
    }
   ],
   "source": [
    "df.impact.value_counts()"
   ]
  },
  {
   "cell_type": "markdown",
   "metadata": {},
   "source": [
    "# INSIGHT:\n",
    "                ~we have data imbalanced problem here, we need to solve it."
   ]
  },
  {
   "cell_type": "code",
   "execution_count": 42,
   "metadata": {},
   "outputs": [
    {
     "data": {
      "text/plain": [
       "?                  139417\n",
       "Problem ID  14        184\n",
       "Problem ID  2         147\n",
       "Problem ID  52         82\n",
       "Problem ID  239        48\n",
       "                    ...  \n",
       "Problem ID  33          1\n",
       "Problem ID  181         1\n",
       "Problem ID  11          1\n",
       "Problem ID  88          1\n",
       "Problem ID  195         1\n",
       "Name: problem_id, Length: 253, dtype: int64"
      ]
     },
     "execution_count": 42,
     "metadata": {},
     "output_type": "execute_result"
    }
   ],
   "source": [
    "df.problem_id.value_counts()"
   ]
  },
  {
   "cell_type": "code",
   "execution_count": 43,
   "metadata": {},
   "outputs": [
    {
     "data": {
      "text/plain": [
       "<matplotlib.legend.Legend at 0x1ba89a6b908>"
      ]
     },
     "execution_count": 43,
     "metadata": {},
     "output_type": "execute_result"
    },
    {
     "data": {
      "image/png": "[encoded data removed]",
      "text/plain": [
       "<Figure size 432x288 with 1 Axes>"
      ]
     },
     "metadata": {
      "needs_background": "light"
     },
     "output_type": "display_data"
    }
   ],
   "source": [
    "# Impact of Id_status on Target\n",
    "fig,ax = plt.subplots()\n",
    "sns.countplot(df['ID_status'], data = df, hue = 'impact', ax = ax)\n",
    "sns.despine(ax = ax)\n",
    "ax.set_xlabel('ID_status', fontsize=10)\n",
    "ax.set_ylabel('Frequency', fontsize=10)\n",
    "ax.set_title('ID-status x Frequency', fontsize=15)\n",
    "ax.tick_params(labelsize=15)\n",
    "ax.set_xticklabels(df['ID_status'], rotation=90)\n",
    "\n",
    "plt.subplots_adjust(wspace=0.5)\n",
    "plt.tight_layout() \n",
    "plt.legend(title=\"Impact\",labels=[\"medium\",\"low\",\"high\"])"
   ]
  },
  {
   "cell_type": "code",
   "execution_count": 44,
   "metadata": {},
   "outputs": [
    {
     "data": {
      "text/plain": [
       "True     116726\n",
       "False     24986\n",
       "Name: active, dtype: int64"
      ]
     },
     "execution_count": 44,
     "metadata": {},
     "output_type": "execute_result"
    }
   ],
   "source": [
    "df.active.value_counts()"
   ]
  },
  {
   "cell_type": "code",
   "execution_count": 45,
   "metadata": {},
   "outputs": [
    {
     "data": {
      "text/plain": [
       "27"
      ]
     },
     "execution_count": 45,
     "metadata": {},
     "output_type": "execute_result"
    }
   ],
   "source": [
    "import numpy as np\n",
    "np.max(df.count_reassign)"
   ]
  },
  {
   "cell_type": "code",
   "execution_count": 46,
   "metadata": {},
   "outputs": [
    {
     "data": {
      "image/png": "[encoded data removed]",
      "text/plain": [
       "<Figure size 432x288 with 1 Axes>"
      ]
     },
     "metadata": {
      "needs_background": "light"
     },
     "output_type": "display_data"
    }
   ],
   "source": [
    "# Impact of count_reassign on Target\n",
    "fig,ax1 = plt.subplots()\n",
    "\n",
    "#Age\n",
    "bins = range(0,30,5)\n",
    "sns.distplot(df.count_reassign[df.impact=='1 - High'],color='r',bins=bins,label=\"high\",ax=ax1,kde=False)\n",
    "sns.distplot(df.count_reassign[df.impact=='2 - Medium'],color='b',bins=bins,label=\"medium\",ax=ax1,kde=False)\n",
    "sns.distplot(df.count_reassign[df.impact=='3 - Low'],color='y',bins=bins,label=\"low\",ax=ax1,kde=False)\n",
    "plt.legend()\n",
    "plt.savefig('count_reassign_target.png')"
   ]
  },
  {
   "cell_type": "markdown",
   "metadata": {},
   "source": [
    "# INSIGHT:\n",
    "                ~count_reassign might be one important feature specially in range of 0-5."
   ]
  },
  {
   "cell_type": "code",
   "execution_count": 47,
   "metadata": {},
   "outputs": [
    {
     "data": {
      "text/plain": [
       "<matplotlib.legend.Legend at 0x1ba89bc6c08>"
      ]
     },
     "execution_count": 47,
     "metadata": {},
     "output_type": "execute_result"
    },
    {
     "data": {
      "image/png": "[encoded data removed]",
      "text/plain": [
       "<Figure size 432x288 with 1 Axes>"
      ]
     },
     "metadata": {
      "needs_background": "light"
     },
     "output_type": "display_data"
    }
   ],
   "source": [
    "# Impact of count_opening on Target\n",
    "fig,ax1 = plt.subplots()\n",
    "\n",
    "#Age\n",
    "bins = range(0,5,1)\n",
    "sns.distplot(df.count_opening[df.impact=='1 - High'],color='r',bins=bins,label=\"high\",ax=ax1,kde=False)\n",
    "sns.distplot(df.count_opening[df.impact=='2 - Medium'],color='b',bins=bins,label=\"medium\",ax=ax1,kde=False)\n",
    "sns.distplot(df.count_opening[df.impact=='3 - Low'],color='g',bins=bins,label=\"low\",ax=ax1,kde=False)\n",
    "plt.legend()"
   ]
  },
  {
   "cell_type": "markdown",
   "metadata": {},
   "source": [
    "# INSIGHT:\n",
    "                ~count_opening might be one important feature."
   ]
  },
  {
   "cell_type": "code",
   "execution_count": 48,
   "metadata": {},
   "outputs": [
    {
     "data": {
      "image/png": "[encoded data removed]",
      "text/plain": [
       "<Figure size 432x288 with 1 Axes>"
      ]
     },
     "metadata": {
      "needs_background": "light"
     },
     "output_type": "display_data"
    }
   ],
   "source": [
    "# Impact of count_updated on Target\n",
    "fig,ax1 = plt.subplots()\n",
    "\n",
    "#Age\n",
    "bins = range(0,50,2)\n",
    "sns.distplot(df.count_updated[df.impact=='1 - High'],color='r',bins=bins,label=\"high\",ax=ax1,kde=False)\n",
    "sns.distplot(df.count_updated[df.impact=='2 - Medium'],color='b',bins=bins,label=\"medium\",ax=ax1,kde=False)\n",
    "sns.distplot(df.count_updated[df.impact=='3 - Low'],color='black',bins=bins,label=\"low\",ax=ax1,kde=False)\n",
    "plt.legend()\n",
    "plt.savefig('count_updated_target.png')"
   ]
  },
  {
   "cell_type": "code",
   "execution_count": 49,
   "metadata": {},
   "outputs": [
    {
     "data": {
      "image/png": "[encoded data removed]",
      "text/plain": [
       "<Figure size 432x288 with 1 Axes>"
      ]
     },
     "metadata": {
      "needs_background": "light"
     },
     "output_type": "display_data"
    }
   ],
   "source": [
    "# Impact of confirmation check on Target\n",
    "fig,ax2 = plt.subplots()\n",
    "sns.countplot(x='confirmation_check', data = df, hue = 'impact', ax = ax2)\n",
    "sns.despine(ax = ax2)\n",
    "ax2.set_xlabel('confirmation check', fontsize=5)\n",
    "ax2.set_ylabel('Occurence', fontsize=5)\n",
    "ax2.set_title('confirmation check x Ocucurence', fontsize=5)\n",
    "ax2.tick_params(labelsize=15)\n",
    "ax2.set_xticklabels(df['confirmation_check'], rotation=90)\n",
    "\n",
    "plt.subplots_adjust(wspace=0.5)\n",
    "plt.tight_layout() \n",
    "plt.legend(title=\"impact\",labels=[\"medium\",\"low\",\"high\"])\n",
    "plt.savefig('confirmation_check_target.png')"
   ]
  },
  {
   "cell_type": "code",
   "execution_count": 50,
   "metadata": {},
   "outputs": [
    {
     "data": {
      "image/png": "[encoded data removed]",
      "text/plain": [
       "<Figure size 432x288 with 1 Axes>"
      ]
     },
     "metadata": {
      "needs_background": "light"
     },
     "output_type": "display_data"
    }
   ],
   "source": [
    "# Impact of confirmation check on Target\n",
    "fig,ax2 = plt.subplots()\n",
    "sns.countplot(x='Doc_knowledge', data = df, hue = 'impact', ax = ax2)\n",
    "sns.despine(ax = ax2)\n",
    "ax2.set_xlabel('Document knowledge', fontsize=5)\n",
    "ax2.set_ylabel('Occurence', fontsize=5)\n",
    "ax2.set_title('Doc_knowledge x Ocucurence', fontsize=5)\n",
    "ax2.tick_params(labelsize=15)\n",
    "ax2.set_xticklabels(df['confirmation_check'], rotation=90)\n",
    "\n",
    "plt.subplots_adjust(wspace=0.5)\n",
    "plt.tight_layout() \n",
    "plt.legend(title=\"impact\",labels=[\"medium\",\"low\",\"high\"])\n",
    "plt.savefig('confirmation_check_target.png')"
   ]
  },
  {
   "cell_type": "code",
   "execution_count": 51,
   "metadata": {},
   "outputs": [],
   "source": [
    "df.loc[df['ID_status']==-100,\"ID_status\"]='hundred'"
   ]
  },
  {
   "cell_type": "markdown",
   "metadata": {},
   "source": [
    "\n",
    "\n",
    "\n",
    "\n",
    "# INSIGHT: \n",
    "                ~countt_updated is one more important feature.    "
   ]
  },
  {
   "cell_type": "code",
   "execution_count": 52,
   "metadata": {},
   "outputs": [],
   "source": [
    "# categorical_columns=['ID_status','active','ID_caller','opened_by','Created_by','updated_by','type_contact',\n",
    "#                       'location','category_ID','user_symptom','Support_group','support_incharge','Doc_knowledge',\n",
    "#                          'confirmation_check','notify','ID']\n",
    "# from sklearn.preprocessing import LabelEncoder \n",
    "# le=LabelEncoder()\n",
    "# df1 = df[['ID_status','active','ID_caller','opened_by','Created_by','updated_by','type_contact',\n",
    "#                       'location','category_ID','user_symptom','Support_group','support_incharge','Doc_knowledge',\n",
    "#                          'confirmation_check','notify','ID']].apply(le.fit_transform)\n",
    "# # df['ID_status']=df[['ID_status']].apply(ke.fit_transform)"
   ]
  },
  {
   "cell_type": "code",
   "execution_count": 53,
   "metadata": {},
   "outputs": [],
   "source": [
    "# df1.head()"
   ]
  },
  {
   "cell_type": "code",
   "execution_count": 54,
   "metadata": {},
   "outputs": [],
   "source": [
    "from sklearn.preprocessing import LabelEncoder \n",
    "le=LabelEncoder()\n",
    "df = df.apply(LabelEncoder().fit_transform)"
   ]
  },
  {
   "cell_type": "code",
   "execution_count": 55,
   "metadata": {},
   "outputs": [
    {
     "data": {
      "text/html": [
       "<div>\n",
       "<style scoped>\n",
       "    .dataframe tbody tr th:only-of-type {\n",
       "        vertical-align: middle;\n",
       "    }\n",
       "\n",
       "    .dataframe tbody tr th {\n",
       "        vertical-align: top;\n",
       "    }\n",
       "\n",
       "    .dataframe thead th {\n",
       "        text-align: right;\n",
       "    }\n",
       "</style>\n",
       "<table border=\"1\" class=\"dataframe\">\n",
       "  <thead>\n",
       "    <tr style=\"text-align: right;\">\n",
       "      <th></th>\n",
       "      <th>ID</th>\n",
       "      <th>ID_status</th>\n",
       "      <th>active</th>\n",
       "      <th>count_reassign</th>\n",
       "      <th>count_opening</th>\n",
       "      <th>count_updated</th>\n",
       "      <th>ID_caller</th>\n",
       "      <th>opened_by</th>\n",
       "      <th>opened_time</th>\n",
       "      <th>Created_by</th>\n",
       "      <th>...</th>\n",
       "      <th>category_ID</th>\n",
       "      <th>user_symptom</th>\n",
       "      <th>impact</th>\n",
       "      <th>Support_group</th>\n",
       "      <th>support_incharge</th>\n",
       "      <th>Doc_knowledge</th>\n",
       "      <th>confirmation_check</th>\n",
       "      <th>notify</th>\n",
       "      <th>problem_id</th>\n",
       "      <th>change request</th>\n",
       "    </tr>\n",
       "  </thead>\n",
       "  <tbody>\n",
       "    <tr>\n",
       "      <td>0</td>\n",
       "      <td>0</td>\n",
       "      <td>6</td>\n",
       "      <td>1</td>\n",
       "      <td>0</td>\n",
       "      <td>0</td>\n",
       "      <td>0</td>\n",
       "      <td>1462</td>\n",
       "      <td>200</td>\n",
       "      <td>0</td>\n",
       "      <td>151</td>\n",
       "      <td>...</td>\n",
       "      <td>46</td>\n",
       "      <td>501</td>\n",
       "      <td>1</td>\n",
       "      <td>47</td>\n",
       "      <td>73</td>\n",
       "      <td>1</td>\n",
       "      <td>0</td>\n",
       "      <td>0</td>\n",
       "      <td>0</td>\n",
       "      <td>0</td>\n",
       "    </tr>\n",
       "    <tr>\n",
       "      <td>1</td>\n",
       "      <td>0</td>\n",
       "      <td>7</td>\n",
       "      <td>1</td>\n",
       "      <td>0</td>\n",
       "      <td>0</td>\n",
       "      <td>3</td>\n",
       "      <td>1462</td>\n",
       "      <td>200</td>\n",
       "      <td>0</td>\n",
       "      <td>151</td>\n",
       "      <td>...</td>\n",
       "      <td>46</td>\n",
       "      <td>501</td>\n",
       "      <td>1</td>\n",
       "      <td>47</td>\n",
       "      <td>73</td>\n",
       "      <td>1</td>\n",
       "      <td>0</td>\n",
       "      <td>0</td>\n",
       "      <td>0</td>\n",
       "      <td>0</td>\n",
       "    </tr>\n",
       "    <tr>\n",
       "      <td>2</td>\n",
       "      <td>0</td>\n",
       "      <td>5</td>\n",
       "      <td>0</td>\n",
       "      <td>0</td>\n",
       "      <td>0</td>\n",
       "      <td>4</td>\n",
       "      <td>1462</td>\n",
       "      <td>200</td>\n",
       "      <td>0</td>\n",
       "      <td>151</td>\n",
       "      <td>...</td>\n",
       "      <td>46</td>\n",
       "      <td>501</td>\n",
       "      <td>1</td>\n",
       "      <td>47</td>\n",
       "      <td>73</td>\n",
       "      <td>1</td>\n",
       "      <td>0</td>\n",
       "      <td>0</td>\n",
       "      <td>0</td>\n",
       "      <td>0</td>\n",
       "    </tr>\n",
       "    <tr>\n",
       "      <td>3</td>\n",
       "      <td>1</td>\n",
       "      <td>0</td>\n",
       "      <td>1</td>\n",
       "      <td>1</td>\n",
       "      <td>0</td>\n",
       "      <td>1</td>\n",
       "      <td>1462</td>\n",
       "      <td>120</td>\n",
       "      <td>1</td>\n",
       "      <td>58</td>\n",
       "      <td>...</td>\n",
       "      <td>30</td>\n",
       "      <td>352</td>\n",
       "      <td>1</td>\n",
       "      <td>15</td>\n",
       "      <td>167</td>\n",
       "      <td>1</td>\n",
       "      <td>0</td>\n",
       "      <td>0</td>\n",
       "      <td>0</td>\n",
       "      <td>0</td>\n",
       "    </tr>\n",
       "    <tr>\n",
       "      <td>4</td>\n",
       "      <td>1</td>\n",
       "      <td>0</td>\n",
       "      <td>1</td>\n",
       "      <td>1</td>\n",
       "      <td>0</td>\n",
       "      <td>2</td>\n",
       "      <td>1462</td>\n",
       "      <td>120</td>\n",
       "      <td>1</td>\n",
       "      <td>58</td>\n",
       "      <td>...</td>\n",
       "      <td>30</td>\n",
       "      <td>352</td>\n",
       "      <td>1</td>\n",
       "      <td>15</td>\n",
       "      <td>167</td>\n",
       "      <td>1</td>\n",
       "      <td>0</td>\n",
       "      <td>0</td>\n",
       "      <td>0</td>\n",
       "      <td>0</td>\n",
       "    </tr>\n",
       "  </tbody>\n",
       "</table>\n",
       "<p>5 rows × 25 columns</p>\n",
       "</div>"
      ],
      "text/plain": [
       "   ID  ID_status  active  count_reassign  count_opening  count_updated  \\\n",
       "0   0          6       1               0              0              0   \n",
       "1   0          7       1               0              0              3   \n",
       "2   0          5       0               0              0              4   \n",
       "3   1          0       1               1              0              1   \n",
       "4   1          0       1               1              0              2   \n",
       "\n",
       "   ID_caller  opened_by  opened_time  Created_by  ...  category_ID  \\\n",
       "0       1462        200            0         151  ...           46   \n",
       "1       1462        200            0         151  ...           46   \n",
       "2       1462        200            0         151  ...           46   \n",
       "3       1462        120            1          58  ...           30   \n",
       "4       1462        120            1          58  ...           30   \n",
       "\n",
       "   user_symptom  impact  Support_group  support_incharge  Doc_knowledge  \\\n",
       "0           501       1             47                73              1   \n",
       "1           501       1             47                73              1   \n",
       "2           501       1             47                73              1   \n",
       "3           352       1             15               167              1   \n",
       "4           352       1             15               167              1   \n",
       "\n",
       "   confirmation_check  notify  problem_id  change request  \n",
       "0                   0       0           0               0  \n",
       "1                   0       0           0               0  \n",
       "2                   0       0           0               0  \n",
       "3                   0       0           0               0  \n",
       "4                   0       0           0               0  \n",
       "\n",
       "[5 rows x 25 columns]"
      ]
     },
     "execution_count": 55,
     "metadata": {},
     "output_type": "execute_result"
    }
   ],
   "source": [
    "df.head()"
   ]
  },
  {
   "cell_type": "code",
   "execution_count": 56,
   "metadata": {},
   "outputs": [],
   "source": [
    "df1=df.drop(columns=['problem_id','change request','ID'],axis=1)"
   ]
  },
  {
   "cell_type": "code",
   "execution_count": 57,
   "metadata": {},
   "outputs": [
    {
     "data": {
      "text/html": [
       "<div>\n",
       "<style scoped>\n",
       "    .dataframe tbody tr th:only-of-type {\n",
       "        vertical-align: middle;\n",
       "    }\n",
       "\n",
       "    .dataframe tbody tr th {\n",
       "        vertical-align: top;\n",
       "    }\n",
       "\n",
       "    .dataframe thead th {\n",
       "        text-align: right;\n",
       "    }\n",
       "</style>\n",
       "<table border=\"1\" class=\"dataframe\">\n",
       "  <thead>\n",
       "    <tr style=\"text-align: right;\">\n",
       "      <th></th>\n",
       "      <th>ID_status</th>\n",
       "      <th>active</th>\n",
       "      <th>count_reassign</th>\n",
       "      <th>count_opening</th>\n",
       "      <th>count_updated</th>\n",
       "      <th>ID_caller</th>\n",
       "      <th>opened_by</th>\n",
       "      <th>opened_time</th>\n",
       "      <th>Created_by</th>\n",
       "      <th>created_at</th>\n",
       "      <th>...</th>\n",
       "      <th>type_contact</th>\n",
       "      <th>location</th>\n",
       "      <th>category_ID</th>\n",
       "      <th>user_symptom</th>\n",
       "      <th>impact</th>\n",
       "      <th>Support_group</th>\n",
       "      <th>support_incharge</th>\n",
       "      <th>Doc_knowledge</th>\n",
       "      <th>confirmation_check</th>\n",
       "      <th>notify</th>\n",
       "    </tr>\n",
       "  </thead>\n",
       "  <tbody>\n",
       "    <tr>\n",
       "      <td>ID_status</td>\n",
       "      <td>1.000000</td>\n",
       "      <td>-0.165452</td>\n",
       "      <td>-0.158993</td>\n",
       "      <td>-0.077673</td>\n",
       "      <td>-0.069330</td>\n",
       "      <td>-0.003875</td>\n",
       "      <td>-0.025942</td>\n",
       "      <td>0.096369</td>\n",
       "      <td>-0.038446</td>\n",
       "      <td>0.088138</td>\n",
       "      <td>...</td>\n",
       "      <td>-0.005828</td>\n",
       "      <td>0.018558</td>\n",
       "      <td>-0.016705</td>\n",
       "      <td>0.014369</td>\n",
       "      <td>-0.004543</td>\n",
       "      <td>0.078681</td>\n",
       "      <td>-0.044177</td>\n",
       "      <td>-0.067473</td>\n",
       "      <td>0.408274</td>\n",
       "      <td>0.017835</td>\n",
       "    </tr>\n",
       "    <tr>\n",
       "      <td>active</td>\n",
       "      <td>-0.165452</td>\n",
       "      <td>1.000000</td>\n",
       "      <td>0.043323</td>\n",
       "      <td>0.019083</td>\n",
       "      <td>-0.097288</td>\n",
       "      <td>0.004318</td>\n",
       "      <td>0.005342</td>\n",
       "      <td>-0.046417</td>\n",
       "      <td>0.040615</td>\n",
       "      <td>-0.046576</td>\n",
       "      <td>...</td>\n",
       "      <td>0.009973</td>\n",
       "      <td>0.003046</td>\n",
       "      <td>0.004053</td>\n",
       "      <td>-0.015211</td>\n",
       "      <td>-0.021294</td>\n",
       "      <td>-0.040518</td>\n",
       "      <td>-0.003175</td>\n",
       "      <td>0.043711</td>\n",
       "      <td>-0.488946</td>\n",
       "      <td>-0.009601</td>\n",
       "    </tr>\n",
       "    <tr>\n",
       "      <td>count_reassign</td>\n",
       "      <td>-0.158993</td>\n",
       "      <td>0.043323</td>\n",
       "      <td>1.000000</td>\n",
       "      <td>0.160193</td>\n",
       "      <td>0.528541</td>\n",
       "      <td>-0.000986</td>\n",
       "      <td>0.002638</td>\n",
       "      <td>-0.111049</td>\n",
       "      <td>0.042356</td>\n",
       "      <td>-0.093435</td>\n",
       "      <td>...</td>\n",
       "      <td>0.000757</td>\n",
       "      <td>0.019564</td>\n",
       "      <td>-0.049027</td>\n",
       "      <td>-0.010989</td>\n",
       "      <td>-0.021097</td>\n",
       "      <td>-0.073989</td>\n",
       "      <td>-0.032259</td>\n",
       "      <td>0.082968</td>\n",
       "      <td>-0.000441</td>\n",
       "      <td>-0.005955</td>\n",
       "    </tr>\n",
       "    <tr>\n",
       "      <td>count_opening</td>\n",
       "      <td>-0.077673</td>\n",
       "      <td>0.019083</td>\n",
       "      <td>0.160193</td>\n",
       "      <td>1.000000</td>\n",
       "      <td>0.247489</td>\n",
       "      <td>-0.006726</td>\n",
       "      <td>-0.006782</td>\n",
       "      <td>-0.006502</td>\n",
       "      <td>-0.012330</td>\n",
       "      <td>0.005128</td>\n",
       "      <td>...</td>\n",
       "      <td>-0.003586</td>\n",
       "      <td>-0.023207</td>\n",
       "      <td>0.012547</td>\n",
       "      <td>-0.004071</td>\n",
       "      <td>-0.003977</td>\n",
       "      <td>-0.014818</td>\n",
       "      <td>-0.008156</td>\n",
       "      <td>0.006847</td>\n",
       "      <td>0.131248</td>\n",
       "      <td>-0.003065</td>\n",
       "    </tr>\n",
       "    <tr>\n",
       "      <td>count_updated</td>\n",
       "      <td>-0.069330</td>\n",
       "      <td>-0.097288</td>\n",
       "      <td>0.528541</td>\n",
       "      <td>0.247489</td>\n",
       "      <td>1.000000</td>\n",
       "      <td>0.009691</td>\n",
       "      <td>-0.002657</td>\n",
       "      <td>-0.081730</td>\n",
       "      <td>0.053401</td>\n",
       "      <td>-0.077900</td>\n",
       "      <td>...</td>\n",
       "      <td>0.017869</td>\n",
       "      <td>-0.007157</td>\n",
       "      <td>-0.003531</td>\n",
       "      <td>-0.025887</td>\n",
       "      <td>-0.015241</td>\n",
       "      <td>-0.103041</td>\n",
       "      <td>0.040389</td>\n",
       "      <td>0.065026</td>\n",
       "      <td>0.185979</td>\n",
       "      <td>-0.006147</td>\n",
       "    </tr>\n",
       "    <tr>\n",
       "      <td>ID_caller</td>\n",
       "      <td>-0.003875</td>\n",
       "      <td>0.004318</td>\n",
       "      <td>-0.000986</td>\n",
       "      <td>-0.006726</td>\n",
       "      <td>0.009691</td>\n",
       "      <td>1.000000</td>\n",
       "      <td>0.053115</td>\n",
       "      <td>-0.009037</td>\n",
       "      <td>-0.017684</td>\n",
       "      <td>-0.005384</td>\n",
       "      <td>...</td>\n",
       "      <td>0.011268</td>\n",
       "      <td>0.034555</td>\n",
       "      <td>-0.015916</td>\n",
       "      <td>-0.003151</td>\n",
       "      <td>-0.006123</td>\n",
       "      <td>-0.012773</td>\n",
       "      <td>-0.028421</td>\n",
       "      <td>0.004471</td>\n",
       "      <td>-0.008350</td>\n",
       "      <td>-0.001060</td>\n",
       "    </tr>\n",
       "    <tr>\n",
       "      <td>opened_by</td>\n",
       "      <td>-0.025942</td>\n",
       "      <td>0.005342</td>\n",
       "      <td>0.002638</td>\n",
       "      <td>-0.006782</td>\n",
       "      <td>-0.002657</td>\n",
       "      <td>0.053115</td>\n",
       "      <td>1.000000</td>\n",
       "      <td>-0.145899</td>\n",
       "      <td>0.227737</td>\n",
       "      <td>-0.098602</td>\n",
       "      <td>...</td>\n",
       "      <td>0.013632</td>\n",
       "      <td>0.003139</td>\n",
       "      <td>-0.012207</td>\n",
       "      <td>-0.012798</td>\n",
       "      <td>-0.081875</td>\n",
       "      <td>-0.006397</td>\n",
       "      <td>0.048312</td>\n",
       "      <td>0.160563</td>\n",
       "      <td>-0.047642</td>\n",
       "      <td>-0.000843</td>\n",
       "    </tr>\n",
       "    <tr>\n",
       "      <td>opened_time</td>\n",
       "      <td>0.096369</td>\n",
       "      <td>-0.046417</td>\n",
       "      <td>-0.111049</td>\n",
       "      <td>-0.006502</td>\n",
       "      <td>-0.081730</td>\n",
       "      <td>-0.009037</td>\n",
       "      <td>-0.145899</td>\n",
       "      <td>1.000000</td>\n",
       "      <td>-0.215133</td>\n",
       "      <td>0.602407</td>\n",
       "      <td>...</td>\n",
       "      <td>0.091133</td>\n",
       "      <td>-0.045641</td>\n",
       "      <td>0.016988</td>\n",
       "      <td>0.035109</td>\n",
       "      <td>-0.054871</td>\n",
       "      <td>0.029895</td>\n",
       "      <td>-0.013537</td>\n",
       "      <td>-0.617276</td>\n",
       "      <td>0.241242</td>\n",
       "      <td>-0.030690</td>\n",
       "    </tr>\n",
       "    <tr>\n",
       "      <td>Created_by</td>\n",
       "      <td>-0.038446</td>\n",
       "      <td>0.040615</td>\n",
       "      <td>0.042356</td>\n",
       "      <td>-0.012330</td>\n",
       "      <td>0.053401</td>\n",
       "      <td>-0.017684</td>\n",
       "      <td>0.227737</td>\n",
       "      <td>-0.215133</td>\n",
       "      <td>1.000000</td>\n",
       "      <td>-0.346581</td>\n",
       "      <td>...</td>\n",
       "      <td>0.035192</td>\n",
       "      <td>0.010119</td>\n",
       "      <td>0.025848</td>\n",
       "      <td>-0.040206</td>\n",
       "      <td>0.024168</td>\n",
       "      <td>-0.259980</td>\n",
       "      <td>0.167417</td>\n",
       "      <td>0.191718</td>\n",
       "      <td>-0.078456</td>\n",
       "      <td>-0.011733</td>\n",
       "    </tr>\n",
       "    <tr>\n",
       "      <td>created_at</td>\n",
       "      <td>0.088138</td>\n",
       "      <td>-0.046576</td>\n",
       "      <td>-0.093435</td>\n",
       "      <td>0.005128</td>\n",
       "      <td>-0.077900</td>\n",
       "      <td>-0.005384</td>\n",
       "      <td>-0.098602</td>\n",
       "      <td>0.602407</td>\n",
       "      <td>-0.346581</td>\n",
       "      <td>1.000000</td>\n",
       "      <td>...</td>\n",
       "      <td>0.048045</td>\n",
       "      <td>-0.035148</td>\n",
       "      <td>0.016321</td>\n",
       "      <td>0.044643</td>\n",
       "      <td>-0.034249</td>\n",
       "      <td>0.172706</td>\n",
       "      <td>-0.073380</td>\n",
       "      <td>-0.413206</td>\n",
       "      <td>0.160898</td>\n",
       "      <td>0.005697</td>\n",
       "    </tr>\n",
       "    <tr>\n",
       "      <td>updated_by</td>\n",
       "      <td>0.092681</td>\n",
       "      <td>-0.482615</td>\n",
       "      <td>-0.079291</td>\n",
       "      <td>-0.010630</td>\n",
       "      <td>-0.000762</td>\n",
       "      <td>0.007651</td>\n",
       "      <td>0.003265</td>\n",
       "      <td>0.043766</td>\n",
       "      <td>-0.157715</td>\n",
       "      <td>0.079940</td>\n",
       "      <td>...</td>\n",
       "      <td>-0.020748</td>\n",
       "      <td>0.003393</td>\n",
       "      <td>-0.002399</td>\n",
       "      <td>0.013493</td>\n",
       "      <td>0.017055</td>\n",
       "      <td>0.048169</td>\n",
       "      <td>-0.122580</td>\n",
       "      <td>-0.038212</td>\n",
       "      <td>0.199193</td>\n",
       "      <td>0.022750</td>\n",
       "    </tr>\n",
       "    <tr>\n",
       "      <td>updated_at</td>\n",
       "      <td>0.094374</td>\n",
       "      <td>-0.143709</td>\n",
       "      <td>-0.001586</td>\n",
       "      <td>0.031433</td>\n",
       "      <td>0.206857</td>\n",
       "      <td>-0.006464</td>\n",
       "      <td>-0.140106</td>\n",
       "      <td>0.925293</td>\n",
       "      <td>-0.198272</td>\n",
       "      <td>0.550635</td>\n",
       "      <td>...</td>\n",
       "      <td>0.092360</td>\n",
       "      <td>-0.040995</td>\n",
       "      <td>0.022074</td>\n",
       "      <td>0.027084</td>\n",
       "      <td>-0.041296</td>\n",
       "      <td>-0.006816</td>\n",
       "      <td>0.006074</td>\n",
       "      <td>-0.577255</td>\n",
       "      <td>0.314944</td>\n",
       "      <td>-0.028793</td>\n",
       "    </tr>\n",
       "    <tr>\n",
       "      <td>type_contact</td>\n",
       "      <td>-0.005828</td>\n",
       "      <td>0.009973</td>\n",
       "      <td>0.000757</td>\n",
       "      <td>-0.003586</td>\n",
       "      <td>0.017869</td>\n",
       "      <td>0.011268</td>\n",
       "      <td>0.013632</td>\n",
       "      <td>0.091133</td>\n",
       "      <td>0.035192</td>\n",
       "      <td>0.048045</td>\n",
       "      <td>...</td>\n",
       "      <td>1.000000</td>\n",
       "      <td>0.012307</td>\n",
       "      <td>0.013750</td>\n",
       "      <td>-0.007946</td>\n",
       "      <td>-0.013740</td>\n",
       "      <td>-0.007487</td>\n",
       "      <td>0.034198</td>\n",
       "      <td>-0.024673</td>\n",
       "      <td>-0.004732</td>\n",
       "      <td>-0.483564</td>\n",
       "    </tr>\n",
       "    <tr>\n",
       "      <td>location</td>\n",
       "      <td>0.018558</td>\n",
       "      <td>0.003046</td>\n",
       "      <td>0.019564</td>\n",
       "      <td>-0.023207</td>\n",
       "      <td>-0.007157</td>\n",
       "      <td>0.034555</td>\n",
       "      <td>0.003139</td>\n",
       "      <td>-0.045641</td>\n",
       "      <td>0.010119</td>\n",
       "      <td>-0.035148</td>\n",
       "      <td>...</td>\n",
       "      <td>0.012307</td>\n",
       "      <td>1.000000</td>\n",
       "      <td>-0.040437</td>\n",
       "      <td>-0.006297</td>\n",
       "      <td>-0.008341</td>\n",
       "      <td>0.006464</td>\n",
       "      <td>-0.022594</td>\n",
       "      <td>0.039974</td>\n",
       "      <td>-0.005540</td>\n",
       "      <td>-0.009370</td>\n",
       "    </tr>\n",
       "    <tr>\n",
       "      <td>category_ID</td>\n",
       "      <td>-0.016705</td>\n",
       "      <td>0.004053</td>\n",
       "      <td>-0.049027</td>\n",
       "      <td>0.012547</td>\n",
       "      <td>-0.003531</td>\n",
       "      <td>-0.015916</td>\n",
       "      <td>-0.012207</td>\n",
       "      <td>0.016988</td>\n",
       "      <td>0.025848</td>\n",
       "      <td>0.016321</td>\n",
       "      <td>...</td>\n",
       "      <td>0.013750</td>\n",
       "      <td>-0.040437</td>\n",
       "      <td>1.000000</td>\n",
       "      <td>0.057099</td>\n",
       "      <td>0.006030</td>\n",
       "      <td>-0.085712</td>\n",
       "      <td>0.026201</td>\n",
       "      <td>0.006697</td>\n",
       "      <td>0.010123</td>\n",
       "      <td>-0.015601</td>\n",
       "    </tr>\n",
       "    <tr>\n",
       "      <td>user_symptom</td>\n",
       "      <td>0.014369</td>\n",
       "      <td>-0.015211</td>\n",
       "      <td>-0.010989</td>\n",
       "      <td>-0.004071</td>\n",
       "      <td>-0.025887</td>\n",
       "      <td>-0.003151</td>\n",
       "      <td>-0.012798</td>\n",
       "      <td>0.035109</td>\n",
       "      <td>-0.040206</td>\n",
       "      <td>0.044643</td>\n",
       "      <td>...</td>\n",
       "      <td>-0.007946</td>\n",
       "      <td>-0.006297</td>\n",
       "      <td>0.057099</td>\n",
       "      <td>1.000000</td>\n",
       "      <td>0.006857</td>\n",
       "      <td>0.003587</td>\n",
       "      <td>0.008327</td>\n",
       "      <td>-0.066876</td>\n",
       "      <td>0.024669</td>\n",
       "      <td>0.007587</td>\n",
       "    </tr>\n",
       "    <tr>\n",
       "      <td>impact</td>\n",
       "      <td>-0.004543</td>\n",
       "      <td>-0.021294</td>\n",
       "      <td>-0.021097</td>\n",
       "      <td>-0.003977</td>\n",
       "      <td>-0.015241</td>\n",
       "      <td>-0.006123</td>\n",
       "      <td>-0.081875</td>\n",
       "      <td>-0.054871</td>\n",
       "      <td>0.024168</td>\n",
       "      <td>-0.034249</td>\n",
       "      <td>...</td>\n",
       "      <td>-0.013740</td>\n",
       "      <td>-0.008341</td>\n",
       "      <td>0.006030</td>\n",
       "      <td>0.006857</td>\n",
       "      <td>1.000000</td>\n",
       "      <td>0.016659</td>\n",
       "      <td>0.036204</td>\n",
       "      <td>0.059008</td>\n",
       "      <td>-0.035696</td>\n",
       "      <td>-0.000354</td>\n",
       "    </tr>\n",
       "    <tr>\n",
       "      <td>Support_group</td>\n",
       "      <td>0.078681</td>\n",
       "      <td>-0.040518</td>\n",
       "      <td>-0.073989</td>\n",
       "      <td>-0.014818</td>\n",
       "      <td>-0.103041</td>\n",
       "      <td>-0.012773</td>\n",
       "      <td>-0.006397</td>\n",
       "      <td>0.029895</td>\n",
       "      <td>-0.259980</td>\n",
       "      <td>0.172706</td>\n",
       "      <td>...</td>\n",
       "      <td>-0.007487</td>\n",
       "      <td>0.006464</td>\n",
       "      <td>-0.085712</td>\n",
       "      <td>0.003587</td>\n",
       "      <td>0.016659</td>\n",
       "      <td>1.000000</td>\n",
       "      <td>-0.213851</td>\n",
       "      <td>-0.072849</td>\n",
       "      <td>0.039705</td>\n",
       "      <td>0.023127</td>\n",
       "    </tr>\n",
       "    <tr>\n",
       "      <td>support_incharge</td>\n",
       "      <td>-0.044177</td>\n",
       "      <td>-0.003175</td>\n",
       "      <td>-0.032259</td>\n",
       "      <td>-0.008156</td>\n",
       "      <td>0.040389</td>\n",
       "      <td>-0.028421</td>\n",
       "      <td>0.048312</td>\n",
       "      <td>-0.013537</td>\n",
       "      <td>0.167417</td>\n",
       "      <td>-0.073380</td>\n",
       "      <td>...</td>\n",
       "      <td>0.034198</td>\n",
       "      <td>-0.022594</td>\n",
       "      <td>0.026201</td>\n",
       "      <td>0.008327</td>\n",
       "      <td>0.036204</td>\n",
       "      <td>-0.213851</td>\n",
       "      <td>1.000000</td>\n",
       "      <td>-0.011566</td>\n",
       "      <td>-0.024537</td>\n",
       "      <td>-0.023206</td>\n",
       "    </tr>\n",
       "    <tr>\n",
       "      <td>Doc_knowledge</td>\n",
       "      <td>-0.067473</td>\n",
       "      <td>0.043711</td>\n",
       "      <td>0.082968</td>\n",
       "      <td>0.006847</td>\n",
       "      <td>0.065026</td>\n",
       "      <td>0.004471</td>\n",
       "      <td>0.160563</td>\n",
       "      <td>-0.617276</td>\n",
       "      <td>0.191718</td>\n",
       "      <td>-0.413206</td>\n",
       "      <td>...</td>\n",
       "      <td>-0.024673</td>\n",
       "      <td>0.039974</td>\n",
       "      <td>0.006697</td>\n",
       "      <td>-0.066876</td>\n",
       "      <td>0.059008</td>\n",
       "      <td>-0.072849</td>\n",
       "      <td>-0.011566</td>\n",
       "      <td>1.000000</td>\n",
       "      <td>-0.221054</td>\n",
       "      <td>0.009979</td>\n",
       "    </tr>\n",
       "    <tr>\n",
       "      <td>confirmation_check</td>\n",
       "      <td>0.408274</td>\n",
       "      <td>-0.488946</td>\n",
       "      <td>-0.000441</td>\n",
       "      <td>0.131248</td>\n",
       "      <td>0.185979</td>\n",
       "      <td>-0.008350</td>\n",
       "      <td>-0.047642</td>\n",
       "      <td>0.241242</td>\n",
       "      <td>-0.078456</td>\n",
       "      <td>0.160898</td>\n",
       "      <td>...</td>\n",
       "      <td>-0.004732</td>\n",
       "      <td>-0.005540</td>\n",
       "      <td>0.010123</td>\n",
       "      <td>0.024669</td>\n",
       "      <td>-0.035696</td>\n",
       "      <td>0.039705</td>\n",
       "      <td>-0.024537</td>\n",
       "      <td>-0.221054</td>\n",
       "      <td>1.000000</td>\n",
       "      <td>0.011604</td>\n",
       "    </tr>\n",
       "    <tr>\n",
       "      <td>notify</td>\n",
       "      <td>0.017835</td>\n",
       "      <td>-0.009601</td>\n",
       "      <td>-0.005955</td>\n",
       "      <td>-0.003065</td>\n",
       "      <td>-0.006147</td>\n",
       "      <td>-0.001060</td>\n",
       "      <td>-0.000843</td>\n",
       "      <td>-0.030690</td>\n",
       "      <td>-0.011733</td>\n",
       "      <td>0.005697</td>\n",
       "      <td>...</td>\n",
       "      <td>-0.483564</td>\n",
       "      <td>-0.009370</td>\n",
       "      <td>-0.015601</td>\n",
       "      <td>0.007587</td>\n",
       "      <td>-0.000354</td>\n",
       "      <td>0.023127</td>\n",
       "      <td>-0.023206</td>\n",
       "      <td>0.009979</td>\n",
       "      <td>0.011604</td>\n",
       "      <td>1.000000</td>\n",
       "    </tr>\n",
       "  </tbody>\n",
       "</table>\n",
       "<p>22 rows × 22 columns</p>\n",
       "</div>"
      ],
      "text/plain": [
       "                    ID_status    active  count_reassign  count_opening  \\\n",
       "ID_status            1.000000 -0.165452       -0.158993      -0.077673   \n",
       "active              -0.165452  1.000000        0.043323       0.019083   \n",
       "count_reassign      -0.158993  0.043323        1.000000       0.160193   \n",
       "count_opening       -0.077673  0.019083        0.160193       1.000000   \n",
       "count_updated       -0.069330 -0.097288        0.528541       0.247489   \n",
       "ID_caller           -0.003875  0.004318       -0.000986      -0.006726   \n",
       "opened_by           -0.025942  0.005342        0.002638      -0.006782   \n",
       "opened_time          0.096369 -0.046417       -0.111049      -0.006502   \n",
       "Created_by          -0.038446  0.040615        0.042356      -0.012330   \n",
       "created_at           0.088138 -0.046576       -0.093435       0.005128   \n",
       "updated_by           0.092681 -0.482615       -0.079291      -0.010630   \n",
       "updated_at           0.094374 -0.143709       -0.001586       0.031433   \n",
       "type_contact        -0.005828  0.009973        0.000757      -0.003586   \n",
       "location             0.018558  0.003046        0.019564      -0.023207   \n",
       "category_ID         -0.016705  0.004053       -0.049027       0.012547   \n",
       "user_symptom         0.014369 -0.015211       -0.010989      -0.004071   \n",
       "impact              -0.004543 -0.021294       -0.021097      -0.003977   \n",
       "Support_group        0.078681 -0.040518       -0.073989      -0.014818   \n",
       "support_incharge    -0.044177 -0.003175       -0.032259      -0.008156   \n",
       "Doc_knowledge       -0.067473  0.043711        0.082968       0.006847   \n",
       "confirmation_check   0.408274 -0.488946       -0.000441       0.131248   \n",
       "notify               0.017835 -0.009601       -0.005955      -0.003065   \n",
       "\n",
       "                    count_updated  ID_caller  opened_by  opened_time  \\\n",
       "ID_status               -0.069330  -0.003875  -0.025942     0.096369   \n",
       "active                  -0.097288   0.004318   0.005342    -0.046417   \n",
       "count_reassign           0.528541  -0.000986   0.002638    -0.111049   \n",
       "count_opening            0.247489  -0.006726  -0.006782    -0.006502   \n",
       "count_updated            1.000000   0.009691  -0.002657    -0.081730   \n",
       "ID_caller                0.009691   1.000000   0.053115    -0.009037   \n",
       "opened_by               -0.002657   0.053115   1.000000    -0.145899   \n",
       "opened_time             -0.081730  -0.009037  -0.145899     1.000000   \n",
       "Created_by               0.053401  -0.017684   0.227737    -0.215133   \n",
       "created_at              -0.077900  -0.005384  -0.098602     0.602407   \n",
       "updated_by              -0.000762   0.007651   0.003265     0.043766   \n",
       "updated_at               0.206857  -0.006464  -0.140106     0.925293   \n",
       "type_contact             0.017869   0.011268   0.013632     0.091133   \n",
       "location                -0.007157   0.034555   0.003139    -0.045641   \n",
       "category_ID             -0.003531  -0.015916  -0.012207     0.016988   \n",
       "user_symptom            -0.025887  -0.003151  -0.012798     0.035109   \n",
       "impact                  -0.015241  -0.006123  -0.081875    -0.054871   \n",
       "Support_group           -0.103041  -0.012773  -0.006397     0.029895   \n",
       "support_incharge         0.040389  -0.028421   0.048312    -0.013537   \n",
       "Doc_knowledge            0.065026   0.004471   0.160563    -0.617276   \n",
       "confirmation_check       0.185979  -0.008350  -0.047642     0.241242   \n",
       "notify                  -0.006147  -0.001060  -0.000843    -0.030690   \n",
       "\n",
       "                    Created_by  created_at  ...  type_contact  location  \\\n",
       "ID_status            -0.038446    0.088138  ...     -0.005828  0.018558   \n",
       "active                0.040615   -0.046576  ...      0.009973  0.003046   \n",
       "count_reassign        0.042356   -0.093435  ...      0.000757  0.019564   \n",
       "count_opening        -0.012330    0.005128  ...     -0.003586 -0.023207   \n",
       "count_updated         0.053401   -0.077900  ...      0.017869 -0.007157   \n",
       "ID_caller            -0.017684   -0.005384  ...      0.011268  0.034555   \n",
       "opened_by             0.227737   -0.098602  ...      0.013632  0.003139   \n",
       "opened_time          -0.215133    0.602407  ...      0.091133 -0.045641   \n",
       "Created_by            1.000000   -0.346581  ...      0.035192  0.010119   \n",
       "created_at           -0.346581    1.000000  ...      0.048045 -0.035148   \n",
       "updated_by           -0.157715    0.079940  ...     -0.020748  0.003393   \n",
       "updated_at           -0.198272    0.550635  ...      0.092360 -0.040995   \n",
       "type_contact          0.035192    0.048045  ...      1.000000  0.012307   \n",
       "location              0.010119   -0.035148  ...      0.012307  1.000000   \n",
       "category_ID           0.025848    0.016321  ...      0.013750 -0.040437   \n",
       "user_symptom         -0.040206    0.044643  ...     -0.007946 -0.006297   \n",
       "impact                0.024168   -0.034249  ...     -0.013740 -0.008341   \n",
       "Support_group        -0.259980    0.172706  ...     -0.007487  0.006464   \n",
       "support_incharge      0.167417   -0.073380  ...      0.034198 -0.022594   \n",
       "Doc_knowledge         0.191718   -0.413206  ...     -0.024673  0.039974   \n",
       "confirmation_check   -0.078456    0.160898  ...     -0.004732 -0.005540   \n",
       "notify               -0.011733    0.005697  ...     -0.483564 -0.009370   \n",
       "\n",
       "                    category_ID  user_symptom    impact  Support_group  \\\n",
       "ID_status             -0.016705      0.014369 -0.004543       0.078681   \n",
       "active                 0.004053     -0.015211 -0.021294      -0.040518   \n",
       "count_reassign        -0.049027     -0.010989 -0.021097      -0.073989   \n",
       "count_opening          0.012547     -0.004071 -0.003977      -0.014818   \n",
       "count_updated         -0.003531     -0.025887 -0.015241      -0.103041   \n",
       "ID_caller             -0.015916     -0.003151 -0.006123      -0.012773   \n",
       "opened_by             -0.012207     -0.012798 -0.081875      -0.006397   \n",
       "opened_time            0.016988      0.035109 -0.054871       0.029895   \n",
       "Created_by             0.025848     -0.040206  0.024168      -0.259980   \n",
       "created_at             0.016321      0.044643 -0.034249       0.172706   \n",
       "updated_by            -0.002399      0.013493  0.017055       0.048169   \n",
       "updated_at             0.022074      0.027084 -0.041296      -0.006816   \n",
       "type_contact           0.013750     -0.007946 -0.013740      -0.007487   \n",
       "location              -0.040437     -0.006297 -0.008341       0.006464   \n",
       "category_ID            1.000000      0.057099  0.006030      -0.085712   \n",
       "user_symptom           0.057099      1.000000  0.006857       0.003587   \n",
       "impact                 0.006030      0.006857  1.000000       0.016659   \n",
       "Support_group         -0.085712      0.003587  0.016659       1.000000   \n",
       "support_incharge       0.026201      0.008327  0.036204      -0.213851   \n",
       "Doc_knowledge          0.006697     -0.066876  0.059008      -0.072849   \n",
       "confirmation_check     0.010123      0.024669 -0.035696       0.039705   \n",
       "notify                -0.015601      0.007587 -0.000354       0.023127   \n",
       "\n",
       "                    support_incharge  Doc_knowledge  confirmation_check  \\\n",
       "ID_status                  -0.044177      -0.067473            0.408274   \n",
       "active                     -0.003175       0.043711           -0.488946   \n",
       "count_reassign             -0.032259       0.082968           -0.000441   \n",
       "count_opening              -0.008156       0.006847            0.131248   \n",
       "count_updated               0.040389       0.065026            0.185979   \n",
       "ID_caller                  -0.028421       0.004471           -0.008350   \n",
       "opened_by                   0.048312       0.160563           -0.047642   \n",
       "opened_time                -0.013537      -0.617276            0.241242   \n",
       "Created_by                  0.167417       0.191718           -0.078456   \n",
       "created_at                 -0.073380      -0.413206            0.160898   \n",
       "updated_by                 -0.122580      -0.038212            0.199193   \n",
       "updated_at                  0.006074      -0.577255            0.314944   \n",
       "type_contact                0.034198      -0.024673           -0.004732   \n",
       "location                   -0.022594       0.039974           -0.005540   \n",
       "category_ID                 0.026201       0.006697            0.010123   \n",
       "user_symptom                0.008327      -0.066876            0.024669   \n",
       "impact                      0.036204       0.059008           -0.035696   \n",
       "Support_group              -0.213851      -0.072849            0.039705   \n",
       "support_incharge            1.000000      -0.011566           -0.024537   \n",
       "Doc_knowledge              -0.011566       1.000000           -0.221054   \n",
       "confirmation_check         -0.024537      -0.221054            1.000000   \n",
       "notify                     -0.023206       0.009979            0.011604   \n",
       "\n",
       "                      notify  \n",
       "ID_status           0.017835  \n",
       "active             -0.009601  \n",
       "count_reassign     -0.005955  \n",
       "count_opening      -0.003065  \n",
       "count_updated      -0.006147  \n",
       "ID_caller          -0.001060  \n",
       "opened_by          -0.000843  \n",
       "opened_time        -0.030690  \n",
       "Created_by         -0.011733  \n",
       "created_at          0.005697  \n",
       "updated_by          0.022750  \n",
       "updated_at         -0.028793  \n",
       "type_contact       -0.483564  \n",
       "location           -0.009370  \n",
       "category_ID        -0.015601  \n",
       "user_symptom        0.007587  \n",
       "impact             -0.000354  \n",
       "Support_group       0.023127  \n",
       "support_incharge   -0.023206  \n",
       "Doc_knowledge       0.009979  \n",
       "confirmation_check  0.011604  \n",
       "notify              1.000000  \n",
       "\n",
       "[22 rows x 22 columns]"
      ]
     },
     "execution_count": 57,
     "metadata": {},
     "output_type": "execute_result"
    }
   ],
   "source": [
    "df1.corr()"
   ]
  },
  {
   "cell_type": "code",
   "execution_count": 58,
   "metadata": {},
   "outputs": [
    {
     "data": {
      "text/plain": [
       "(141712, 22)"
      ]
     },
     "execution_count": 58,
     "metadata": {},
     "output_type": "execute_result"
    }
   ],
   "source": [
    "df1.shape"
   ]
  },
  {
   "cell_type": "code",
   "execution_count": 59,
   "metadata": {},
   "outputs": [],
   "source": [
    "x=df1.drop('impact',axis=1)\n",
    "y=df1['impact']"
   ]
  },
  {
   "cell_type": "code",
   "execution_count": 60,
   "metadata": {},
   "outputs": [],
   "source": [
    "y=np.array(y)\n",
    "y=y.reshape(-1,1)"
   ]
  },
  {
   "cell_type": "code",
   "execution_count": 61,
   "metadata": {},
   "outputs": [],
   "source": [
    "from sklearn.model_selection import train_test_split\n",
    "x_train, x_test, y_train, y_test = train_test_split(x, y, test_size=0.20, random_state=7)"
   ]
  },
  {
   "cell_type": "code",
   "execution_count": 62,
   "metadata": {},
   "outputs": [
    {
     "name": "stderr",
     "output_type": "stream",
     "text": [
      "C:\\Users\\asd\\Anaconda3\\lib\\site-packages\\sklearn\\utils\\validation.py:72: DataConversionWarning: A column-vector y was passed when a 1d array was expected. Please change the shape of y to (n_samples, ), for example using ravel().\n",
      "  return f(**kwargs)\n",
      "C:\\Users\\asd\\Anaconda3\\lib\\site-packages\\sklearn\\linear_model\\_logistic.py:764: ConvergenceWarning: lbfgs failed to converge (status=1):\n",
      "STOP: TOTAL NO. of ITERATIONS REACHED LIMIT.\n",
      "\n",
      "Increase the number of iterations (max_iter) or scale the data as shown in:\n",
      "    https://scikit-learn.org/stable/modules/preprocessing.html\n",
      "Please also refer to the documentation for alternative solver options:\n",
      "    https://scikit-learn.org/stable/modules/linear_model.html#logistic-regression\n",
      "  extra_warning_msg=_LOGISTIC_SOLVER_CONVERGENCE_MSG)\n"
     ]
    },
    {
     "data": {
      "text/plain": [
       "LogisticRegression()"
      ]
     },
     "execution_count": 62,
     "metadata": {},
     "output_type": "execute_result"
    }
   ],
   "source": [
    "from sklearn.linear_model import LogisticRegression\n",
    "LogReg = LogisticRegression(solver = 'lbfgs')\n",
    "\n",
    "LogReg.fit(x_train,y_train)"
   ]
  },
  {
   "cell_type": "code",
   "execution_count": 63,
   "metadata": {},
   "outputs": [],
   "source": [
    "from sklearn.metrics import classification_report,confusion_matrix\n",
    "from sklearn.metrics import confusion_matrix, accuracy_score, f1_score, precision_score, recall_score"
   ]
  },
  {
   "cell_type": "code",
   "execution_count": 64,
   "metadata": {},
   "outputs": [
    {
     "name": "stdout",
     "output_type": "stream",
     "text": [
      "Train Accuracy: 0.9484250544681526\n"
     ]
    }
   ],
   "source": [
    "LogReg_predict_train=LogReg.predict(x_train)\n",
    "print('Train Accuracy:' ,accuracy_score(y_train,LogReg_predict_train))"
   ]
  },
  {
   "cell_type": "code",
   "execution_count": 65,
   "metadata": {},
   "outputs": [
    {
     "name": "stdout",
     "output_type": "stream",
     "text": [
      "              precision    recall  f1-score   support\n",
      "\n",
      "           0       0.00      0.00      0.00      2784\n",
      "           1       0.95      1.00      0.97    107522\n",
      "           2       0.00      0.00      0.00      3063\n",
      "\n",
      "    accuracy                           0.95    113369\n",
      "   macro avg       0.32      0.33      0.32    113369\n",
      "weighted avg       0.90      0.95      0.92    113369\n",
      "\n"
     ]
    },
    {
     "name": "stderr",
     "output_type": "stream",
     "text": [
      "C:\\Users\\asd\\Anaconda3\\lib\\site-packages\\sklearn\\metrics\\_classification.py:1221: UndefinedMetricWarning: Precision and F-score are ill-defined and being set to 0.0 in labels with no predicted samples. Use `zero_division` parameter to control this behavior.\n",
      "  _warn_prf(average, modifier, msg_start, len(result))\n"
     ]
    }
   ],
   "source": [
    "print(classification_report(y_train,LogReg_predict_train))"
   ]
  },
  {
   "cell_type": "code",
   "execution_count": 66,
   "metadata": {},
   "outputs": [
    {
     "data": {
      "image/png": "[encoded data removed]",
      "text/plain": [
       "<Figure size 432x288 with 2 Axes>"
      ]
     },
     "metadata": {
      "needs_background": "light"
     },
     "output_type": "display_data"
    }
   ],
   "source": [
    "from sklearn.metrics import plot_confusion_matrix\n",
    "plot_confusion_matrix(LogReg, x_train,y_train) \n",
    "plt.show()"
   ]
  },
  {
   "cell_type": "code",
   "execution_count": 67,
   "metadata": {},
   "outputs": [],
   "source": [
    "LogReg_predict_test=LogReg.predict(x_test)"
   ]
  },
  {
   "cell_type": "code",
   "execution_count": 68,
   "metadata": {},
   "outputs": [
    {
     "data": {
      "text/plain": [
       "0.9460184172458809"
      ]
     },
     "execution_count": 68,
     "metadata": {},
     "output_type": "execute_result"
    }
   ],
   "source": [
    "LogReg_ScoreAccuracy= accuracy_score(y_test, LogReg_predict_test)\n",
    "LogReg_ScoreAccuracy"
   ]
  },
  {
   "cell_type": "markdown",
   "metadata": {},
   "source": [
    "# INSIGHT:\n",
    "                 ~we can see that accuracy is 33% but we can not deploy this model because of zero recall and precision for high impact and low impact incident."
   ]
  },
  {
   "cell_type": "code",
   "execution_count": 69,
   "metadata": {},
   "outputs": [
    {
     "name": "stdout",
     "output_type": "stream",
     "text": [
      "              precision    recall  f1-score   support\n",
      "\n",
      "           0       0.00      0.00      0.00       707\n",
      "           1       0.95      1.00      0.97     26813\n",
      "           2       0.00      0.00      0.00       823\n",
      "\n",
      "    accuracy                           0.95     28343\n",
      "   macro avg       0.32      0.33      0.32     28343\n",
      "weighted avg       0.89      0.95      0.92     28343\n",
      "\n"
     ]
    },
    {
     "name": "stderr",
     "output_type": "stream",
     "text": [
      "C:\\Users\\asd\\Anaconda3\\lib\\site-packages\\sklearn\\metrics\\_classification.py:1221: UndefinedMetricWarning: Precision and F-score are ill-defined and being set to 0.0 in labels with no predicted samples. Use `zero_division` parameter to control this behavior.\n",
      "  _warn_prf(average, modifier, msg_start, len(result))\n"
     ]
    }
   ],
   "source": [
    "print(classification_report(y_test,LogReg_predict_test))"
   ]
  },
  {
   "cell_type": "markdown",
   "metadata": {},
   "source": [
    "# INSIGHT:\n",
    "                ~we can see that precision and recall for low impact and high impact is zero due to data imbalance problem."
   ]
  },
  {
   "cell_type": "code",
   "execution_count": 70,
   "metadata": {},
   "outputs": [
    {
     "data": {
      "image/png": "[encoded data removed]",
      "text/plain": [
       "<Figure size 432x288 with 2 Axes>"
      ]
     },
     "metadata": {
      "needs_background": "light"
     },
     "output_type": "display_data"
    }
   ],
   "source": [
    "plot_confusion_matrix(LogReg,x_test,y_test)\n",
    "plt.show()"
   ]
  },
  {
   "cell_type": "code",
   "execution_count": 71,
   "metadata": {},
   "outputs": [
    {
     "name": "stdout",
     "output_type": "stream",
     "text": [
      "2    134335\n",
      "1    134335\n",
      "0    134335\n",
      "dtype: int64\n"
     ]
    }
   ],
   "source": [
    "# resampling the data using SMOTE\n",
    "from imblearn.over_sampling import SMOTE\n",
    "smote = SMOTE(random_state=0)\n",
    "x_smote, y_smote = smote.fit_resample(x, y)\n",
    "print (pd.Series(y_smote).value_counts())"
   ]
  },
  {
   "cell_type": "code",
   "execution_count": 72,
   "metadata": {},
   "outputs": [
    {
     "data": {
      "text/plain": [
       "(403005, 21)"
      ]
     },
     "execution_count": 72,
     "metadata": {},
     "output_type": "execute_result"
    }
   ],
   "source": [
    "x_smote.shape"
   ]
  },
  {
   "cell_type": "code",
   "execution_count": 73,
   "metadata": {},
   "outputs": [
    {
     "data": {
      "text/plain": [
       "(403005,)"
      ]
     },
     "execution_count": 73,
     "metadata": {},
     "output_type": "execute_result"
    }
   ],
   "source": [
    "y_smote.shape"
   ]
  },
  {
   "cell_type": "code",
   "execution_count": 74,
   "metadata": {},
   "outputs": [],
   "source": [
    "y_smote=np.array(y_smote)\n",
    "y_smote=y_smote.reshape(-1,1)"
   ]
  },
  {
   "cell_type": "code",
   "execution_count": 75,
   "metadata": {},
   "outputs": [],
   "source": [
    "X_train,X_test,Y_train,Y_test=train_test_split(x_smote,y_smote,random_state=1,test_size=0.2)"
   ]
  },
  {
   "cell_type": "code",
   "execution_count": 76,
   "metadata": {},
   "outputs": [
    {
     "name": "stdout",
     "output_type": "stream",
     "text": [
      "(322404, 21)\n"
     ]
    }
   ],
   "source": [
    "print(X_train.shape)"
   ]
  },
  {
   "cell_type": "code",
   "execution_count": 77,
   "metadata": {},
   "outputs": [
    {
     "name": "stdout",
     "output_type": "stream",
     "text": [
      "(80601, 21)\n"
     ]
    }
   ],
   "source": [
    "print(X_test.shape)"
   ]
  },
  {
   "cell_type": "code",
   "execution_count": 78,
   "metadata": {},
   "outputs": [
    {
     "name": "stdout",
     "output_type": "stream",
     "text": [
      "(322404, 1)\n"
     ]
    }
   ],
   "source": [
    "print(Y_train.shape)"
   ]
  },
  {
   "cell_type": "code",
   "execution_count": 79,
   "metadata": {},
   "outputs": [
    {
     "name": "stdout",
     "output_type": "stream",
     "text": [
      "(80601, 1)\n"
     ]
    }
   ],
   "source": [
    "print(Y_test.shape)"
   ]
  },
  {
   "cell_type": "code",
   "execution_count": 80,
   "metadata": {},
   "outputs": [
    {
     "name": "stderr",
     "output_type": "stream",
     "text": [
      "C:\\Users\\asd\\Anaconda3\\lib\\site-packages\\sklearn\\utils\\validation.py:72: DataConversionWarning: A column-vector y was passed when a 1d array was expected. Please change the shape of y to (n_samples, ), for example using ravel().\n",
      "  return f(**kwargs)\n",
      "C:\\Users\\asd\\Anaconda3\\lib\\site-packages\\sklearn\\linear_model\\_logistic.py:764: ConvergenceWarning: lbfgs failed to converge (status=1):\n",
      "STOP: TOTAL NO. of ITERATIONS REACHED LIMIT.\n",
      "\n",
      "Increase the number of iterations (max_iter) or scale the data as shown in:\n",
      "    https://scikit-learn.org/stable/modules/preprocessing.html\n",
      "Please also refer to the documentation for alternative solver options:\n",
      "    https://scikit-learn.org/stable/modules/linear_model.html#logistic-regression\n",
      "  extra_warning_msg=_LOGISTIC_SOLVER_CONVERGENCE_MSG)\n"
     ]
    },
    {
     "data": {
      "text/plain": [
       "LogisticRegression()"
      ]
     },
     "execution_count": 80,
     "metadata": {},
     "output_type": "execute_result"
    }
   ],
   "source": [
    "LogReg.fit(X_train,Y_train)"
   ]
  },
  {
   "cell_type": "code",
   "execution_count": 81,
   "metadata": {},
   "outputs": [
    {
     "name": "stdout",
     "output_type": "stream",
     "text": [
      "Train Accuracy: 0.4824133695611717\n"
     ]
    }
   ],
   "source": [
    "Log_predict_train=LogReg.predict(X_train)\n",
    "print(\"Train Accuracy:\",accuracy_score(Y_train,Log_predict_train))"
   ]
  },
  {
   "cell_type": "code",
   "execution_count": 82,
   "metadata": {},
   "outputs": [
    {
     "name": "stdout",
     "output_type": "stream",
     "text": [
      "              precision    recall  f1-score   support\n",
      "\n",
      "           0       0.51      0.53      0.52    107263\n",
      "           1       0.41      0.32      0.36    107613\n",
      "           2       0.50      0.60      0.55    107528\n",
      "\n",
      "    accuracy                           0.48    322404\n",
      "   macro avg       0.48      0.48      0.48    322404\n",
      "weighted avg       0.48      0.48      0.48    322404\n",
      "\n"
     ]
    }
   ],
   "source": [
    "print(classification_report(Y_train,Log_predict_train))"
   ]
  },
  {
   "cell_type": "code",
   "execution_count": 83,
   "metadata": {},
   "outputs": [
    {
     "data": {
      "image/png": "[encoded data removed]",
      "text/plain": [
       "<Figure size 432x288 with 2 Axes>"
      ]
     },
     "metadata": {
      "needs_background": "light"
     },
     "output_type": "display_data"
    }
   ],
   "source": [
    "plot_confusion_matrix(LogReg, X_train,Y_train) \n",
    "plt.show()"
   ]
  },
  {
   "cell_type": "code",
   "execution_count": 84,
   "metadata": {},
   "outputs": [],
   "source": [
    "Log_predict=LogReg.predict(X_test)"
   ]
  },
  {
   "cell_type": "code",
   "execution_count": 85,
   "metadata": {},
   "outputs": [
    {
     "data": {
      "text/plain": [
       "0.48608578057344204"
      ]
     },
     "execution_count": 85,
     "metadata": {},
     "output_type": "execute_result"
    }
   ],
   "source": [
    "Log_ScoreAccuracy= accuracy_score(Y_test, Log_predict)\n",
    "Log_ScoreAccuracy"
   ]
  },
  {
   "cell_type": "code",
   "execution_count": 86,
   "metadata": {},
   "outputs": [
    {
     "name": "stdout",
     "output_type": "stream",
     "text": [
      "              precision    recall  f1-score   support\n",
      "\n",
      "           0       0.52      0.53      0.52     27072\n",
      "           1       0.41      0.33      0.36     26722\n",
      "           2       0.51      0.60      0.55     26807\n",
      "\n",
      "    accuracy                           0.49     80601\n",
      "   macro avg       0.48      0.49      0.48     80601\n",
      "weighted avg       0.48      0.49      0.48     80601\n",
      "\n"
     ]
    }
   ],
   "source": [
    "print(classification_report(Y_test,Log_predict))"
   ]
  },
  {
   "cell_type": "code",
   "execution_count": 87,
   "metadata": {},
   "outputs": [
    {
     "data": {
      "image/png": "[encoded data removed]",
      "text/plain": [
       "<Figure size 432x288 with 2 Axes>"
      ]
     },
     "metadata": {
      "needs_background": "light"
     },
     "output_type": "display_data"
    }
   ],
   "source": [
    "plot_confusion_matrix(LogReg, X_test,Y_test) \n",
    "plt.show()"
   ]
  },
  {
   "cell_type": "code",
   "execution_count": 88,
   "metadata": {},
   "outputs": [
    {
     "data": {
      "text/plain": [
       "DecisionTreeClassifier(criterion='entropy')"
      ]
     },
     "execution_count": 88,
     "metadata": {},
     "output_type": "execute_result"
    }
   ],
   "source": [
    "from sklearn.tree import DecisionTreeClassifier\n",
    "DT=DecisionTreeClassifier(criterion='entropy')\n",
    "DT.fit(X_train,Y_train)"
   ]
  },
  {
   "cell_type": "code",
   "execution_count": 89,
   "metadata": {},
   "outputs": [
    {
     "name": "stdout",
     "output_type": "stream",
     "text": [
      "Train Accuracy: 0.9999875932060396\n"
     ]
    }
   ],
   "source": [
    "DT_predict_train=DT.predict(X_train)\n",
    "print(\"Train Accuracy:\",accuracy_score(Y_train,DT_predict_train))"
   ]
  },
  {
   "cell_type": "code",
   "execution_count": 90,
   "metadata": {},
   "outputs": [
    {
     "name": "stdout",
     "output_type": "stream",
     "text": [
      "              precision    recall  f1-score   support\n",
      "\n",
      "           0       1.00      1.00      1.00    107263\n",
      "           1       1.00      1.00      1.00    107613\n",
      "           2       1.00      1.00      1.00    107528\n",
      "\n",
      "    accuracy                           1.00    322404\n",
      "   macro avg       1.00      1.00      1.00    322404\n",
      "weighted avg       1.00      1.00      1.00    322404\n",
      "\n"
     ]
    }
   ],
   "source": [
    "print(classification_report(Y_train,DT_predict_train))"
   ]
  },
  {
   "cell_type": "code",
   "execution_count": 91,
   "metadata": {},
   "outputs": [
    {
     "data": {
      "text/plain": [
       "<sklearn.metrics._plot.confusion_matrix.ConfusionMatrixDisplay at 0x1ba88425e48>"
      ]
     },
     "execution_count": 91,
     "metadata": {},
     "output_type": "execute_result"
    },
    {
     "data": {
      "image/png": "[encoded data removed]",
      "text/plain": [
       "<Figure size 432x288 with 2 Axes>"
      ]
     },
     "metadata": {
      "needs_background": "light"
     },
     "output_type": "display_data"
    }
   ],
   "source": [
    "plot_confusion_matrix(DT,X_train,Y_train)"
   ]
  },
  {
   "cell_type": "code",
   "execution_count": 92,
   "metadata": {},
   "outputs": [
    {
     "data": {
      "text/plain": [
       "array([0, 2, 1, ..., 2, 2, 2])"
      ]
     },
     "execution_count": 92,
     "metadata": {},
     "output_type": "execute_result"
    }
   ],
   "source": [
    "pred_Dt=DT.predict(X_test)\n",
    "pred_Dt"
   ]
  },
  {
   "cell_type": "code",
   "execution_count": 93,
   "metadata": {},
   "outputs": [
    {
     "data": {
      "text/plain": [
       "0.9821838438729048"
      ]
     },
     "execution_count": 93,
     "metadata": {},
     "output_type": "execute_result"
    }
   ],
   "source": [
    "Dt_accuracyscore=accuracy_score(Y_test,pred_Dt)\n",
    "Dt_accuracyscore"
   ]
  },
  {
   "cell_type": "code",
   "execution_count": 94,
   "metadata": {},
   "outputs": [
    {
     "name": "stdout",
     "output_type": "stream",
     "text": [
      "              precision    recall  f1-score   support\n",
      "\n",
      "           0       0.98      0.98      0.98     27072\n",
      "           1       0.98      0.97      0.98     26722\n",
      "           2       0.98      0.99      0.99     26807\n",
      "\n",
      "    accuracy                           0.98     80601\n",
      "   macro avg       0.98      0.98      0.98     80601\n",
      "weighted avg       0.98      0.98      0.98     80601\n",
      "\n"
     ]
    }
   ],
   "source": [
    "print(classification_report(Y_test,pred_Dt))"
   ]
  },
  {
   "cell_type": "markdown",
   "metadata": {},
   "source": [
    "# INSIGHT:\n",
    "                ~surely we can deploy this model because we got 98% accuracy."
   ]
  },
  {
   "cell_type": "code",
   "execution_count": 95,
   "metadata": {},
   "outputs": [
    {
     "data": {
      "image/png": "[encoded data removed]",
      "text/plain": [
       "<Figure size 432x288 with 2 Axes>"
      ]
     },
     "metadata": {
      "needs_background": "light"
     },
     "output_type": "display_data"
    }
   ],
   "source": [
    "plot_confusion_matrix(DT, X_test,Y_test) \n",
    "plt.show()"
   ]
  },
  {
   "cell_type": "code",
   "execution_count": 96,
   "metadata": {},
   "outputs": [
    {
     "name": "stderr",
     "output_type": "stream",
     "text": [
      "C:\\Users\\asd\\Anaconda3\\lib\\site-packages\\ipykernel_launcher.py:4: DataConversionWarning: A column-vector y was passed when a 1d array was expected. Please change the shape of y to (n_samples,), for example using ravel().\n",
      "  after removing the cwd from sys.path.\n"
     ]
    }
   ],
   "source": [
    "from sklearn.ensemble import RandomForestClassifier\n",
    "import pickle\n",
    "Final_Model= RandomForestClassifier(n_jobs=3,oob_score=True,n_estimators=63,criterion=\"entropy\")\n",
    "Final_Model.fit(X_train,Y_train)\n",
    "pickle.dump(Final_Model,open('Model.pkl','wb'))"
   ]
  },
  {
   "cell_type": "code",
   "execution_count": 97,
   "metadata": {},
   "outputs": [
    {
     "data": {
      "text/plain": [
       "array([0, 1, 2])"
      ]
     },
     "execution_count": 97,
     "metadata": {},
     "output_type": "execute_result"
    }
   ],
   "source": [
    "Final_Model.classes_"
   ]
  },
  {
   "cell_type": "code",
   "execution_count": 98,
   "metadata": {},
   "outputs": [
    {
     "data": {
      "text/plain": [
       "3"
      ]
     },
     "execution_count": 98,
     "metadata": {},
     "output_type": "execute_result"
    }
   ],
   "source": [
    "Final_Model.n_classes_ # Number of levels in class labels "
   ]
  },
  {
   "cell_type": "code",
   "execution_count": 99,
   "metadata": {},
   "outputs": [
    {
     "name": "stdout",
     "output_type": "stream",
     "text": [
      "Accuracy Score: 0.9999844915075495\n"
     ]
    }
   ],
   "source": [
    "pred_RF_test=Final_Model.predict(X_train)\n",
    "print(\"Accuracy Score:\",accuracy_score(Y_train,pred_RF_test))"
   ]
  },
  {
   "cell_type": "code",
   "execution_count": 100,
   "metadata": {},
   "outputs": [
    {
     "name": "stdout",
     "output_type": "stream",
     "text": [
      "              precision    recall  f1-score   support\n",
      "\n",
      "           0       1.00      1.00      1.00    107263\n",
      "           1       1.00      1.00      1.00    107613\n",
      "           2       1.00      1.00      1.00    107528\n",
      "\n",
      "    accuracy                           1.00    322404\n",
      "   macro avg       1.00      1.00      1.00    322404\n",
      "weighted avg       1.00      1.00      1.00    322404\n",
      "\n"
     ]
    }
   ],
   "source": [
    "print(classification_report(Y_train,pred_RF_test))"
   ]
  },
  {
   "cell_type": "code",
   "execution_count": 101,
   "metadata": {},
   "outputs": [
    {
     "data": {
      "image/png": "[encoded data removed]",
      "text/plain": [
       "<Figure size 432x288 with 2 Axes>"
      ]
     },
     "metadata": {
      "needs_background": "light"
     },
     "output_type": "display_data"
    }
   ],
   "source": [
    "plot_confusion_matrix(Final_Model,X_train,Y_train)\n",
    "plt.show()"
   ]
  },
  {
   "cell_type": "code",
   "execution_count": 102,
   "metadata": {},
   "outputs": [
    {
     "data": {
      "text/plain": [
       "array([0, 2, 1, ..., 2, 2, 1])"
      ]
     },
     "execution_count": 102,
     "metadata": {},
     "output_type": "execute_result"
    }
   ],
   "source": [
    "pred_RF=Final_Model.predict(X_test)\n",
    "pred_RF"
   ]
  },
  {
   "cell_type": "code",
   "execution_count": 103,
   "metadata": {},
   "outputs": [
    {
     "data": {
      "text/plain": [
       "0.9950993163856527"
      ]
     },
     "execution_count": 103,
     "metadata": {},
     "output_type": "execute_result"
    }
   ],
   "source": [
    "accuracy_RF=accuracy_score(Y_test,pred_RF)\n",
    "accuracy_RF"
   ]
  },
  {
   "cell_type": "code",
   "execution_count": 104,
   "metadata": {},
   "outputs": [
    {
     "name": "stdout",
     "output_type": "stream",
     "text": [
      "              precision    recall  f1-score   support\n",
      "\n",
      "           0       1.00      1.00      1.00     27072\n",
      "           1       0.99      0.99      0.99     26722\n",
      "           2       0.99      1.00      1.00     26807\n",
      "\n",
      "    accuracy                           1.00     80601\n",
      "   macro avg       1.00      1.00      1.00     80601\n",
      "weighted avg       1.00      1.00      1.00     80601\n",
      "\n"
     ]
    }
   ],
   "source": [
    "print(classification_report(Y_test,pred_RF))"
   ]
  },
  {
   "cell_type": "code",
   "execution_count": 105,
   "metadata": {},
   "outputs": [
    {
     "data": {
      "text/plain": [
       "<sklearn.metrics._plot.confusion_matrix.ConfusionMatrixDisplay at 0x1ba87bfb0c8>"
      ]
     },
     "execution_count": 105,
     "metadata": {},
     "output_type": "execute_result"
    },
    {
     "data": {
      "image/png": "[encoded data removed]",
      "text/plain": [
       "<Figure size 432x288 with 2 Axes>"
      ]
     },
     "metadata": {
      "needs_background": "light"
     },
     "output_type": "display_data"
    }
   ],
   "source": [
    "plot_confusion_matrix(Final_Model,X_test,Y_test)"
   ]
  },
  {
   "cell_type": "code",
   "execution_count": 106,
   "metadata": {},
   "outputs": [],
   "source": [
    "from flask import Flask, render_template, request, redirect, url_for\n",
    "\n",
    "model=pickle.load(open('Model.pkl','rb'))"
   ]
  },
  {
   "cell_type": "code",
   "execution_count": null,
   "metadata": {},
   "outputs": [],
   "source": []
  },
  {
   "cell_type": "code",
   "execution_count": null,
   "metadata": {},
   "outputs": [],
   "source": []
  }
 ],
 "metadata": {
  "kernelspec": {
   "display_name": "Python 3",
   "language": "python",
   "name": "python3"
  },
  "language_info": {
   "codemirror_mode": {
    "name": "ipython",
    "version": 3
   },
   "file_extension": ".py",
   "mimetype": "text/x-python",
   "name": "python",
   "nbconvert_exporter": "python",
   "pygments_lexer": "ipython3",
   "version": "3.7.4"
  }
 },
 "nbformat": 4,
 "nbformat_minor": 2
}
